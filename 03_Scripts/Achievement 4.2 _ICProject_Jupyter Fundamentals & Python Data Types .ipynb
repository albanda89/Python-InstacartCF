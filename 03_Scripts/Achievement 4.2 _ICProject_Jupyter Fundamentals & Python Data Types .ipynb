{
 "cells": [
  {
   "cell_type": "markdown",
   "id": "68068c48",
   "metadata": {},
   "source": [
    "# 01. Importing libraries"
   ]
  },
  {
   "cell_type": "code",
   "execution_count": 1,
   "id": "0e3abc71",
   "metadata": {},
   "outputs": [],
   "source": [
    "# Import libraries\n",
    "import pandas as pd\n",
    "import numpy as np\n",
    "import os"
   ]
  },
  {
   "cell_type": "markdown",
   "id": "dde14a9f",
   "metadata": {},
   "source": [
    "# 02. Data types"
   ]
  },
  {
   "cell_type": "code",
   "execution_count": 2,
   "id": "93ec1a9d",
   "metadata": {},
   "outputs": [],
   "source": [
    "x=25"
   ]
  },
  {
   "cell_type": "code",
   "execution_count": 3,
   "id": "870f714f",
   "metadata": {},
   "outputs": [],
   "source": [
    "y=75"
   ]
  },
  {
   "cell_type": "code",
   "execution_count": 4,
   "id": "e7996cd9",
   "metadata": {},
   "outputs": [
    {
     "data": {
      "text/plain": [
       "100"
      ]
     },
     "execution_count": 4,
     "metadata": {},
     "output_type": "execute_result"
    }
   ],
   "source": [
    "x+y"
   ]
  },
  {
   "cell_type": "code",
   "execution_count": 6,
   "id": "dde17056",
   "metadata": {},
   "outputs": [
    {
     "data": {
      "text/plain": [
       "int"
      ]
     },
     "execution_count": 6,
     "metadata": {},
     "output_type": "execute_result"
    }
   ],
   "source": [
    "type(x+y)"
   ]
  },
  {
   "cell_type": "code",
   "execution_count": 9,
   "id": "5fb1d75b",
   "metadata": {},
   "outputs": [],
   "source": [
    "a=5"
   ]
  },
  {
   "cell_type": "code",
   "execution_count": 10,
   "id": "04ff0c5b",
   "metadata": {},
   "outputs": [
    {
     "data": {
      "text/plain": [
       "100"
      ]
     },
     "execution_count": 10,
     "metadata": {},
     "output_type": "execute_result"
    }
   ],
   "source": [
    "105-a"
   ]
  },
  {
   "cell_type": "code",
   "execution_count": 11,
   "id": "e1362834",
   "metadata": {},
   "outputs": [
    {
     "data": {
      "text/plain": [
       "int"
      ]
     },
     "execution_count": 11,
     "metadata": {},
     "output_type": "execute_result"
    }
   ],
   "source": [
    "type(105-a)"
   ]
  },
  {
   "cell_type": "code",
   "execution_count": 27,
   "id": "2f76d611",
   "metadata": {},
   "outputs": [],
   "source": [
    "c=30.765"
   ]
  },
  {
   "cell_type": "code",
   "execution_count": 28,
   "id": "18b0327b",
   "metadata": {},
   "outputs": [],
   "source": [
    "d=69.235"
   ]
  },
  {
   "cell_type": "code",
   "execution_count": 29,
   "id": "e01fdd9c",
   "metadata": {},
   "outputs": [
    {
     "data": {
      "text/plain": [
       "100.0"
      ]
     },
     "execution_count": 29,
     "metadata": {},
     "output_type": "execute_result"
    }
   ],
   "source": [
    "c+d"
   ]
  },
  {
   "cell_type": "code",
   "execution_count": 30,
   "id": "5c3a9016",
   "metadata": {},
   "outputs": [],
   "source": [
    "p=2.4856"
   ]
  },
  {
   "cell_type": "code",
   "execution_count": 31,
   "id": "f39a2a2a",
   "metadata": {},
   "outputs": [],
   "source": [
    "q=48.4486"
   ]
  },
  {
   "cell_type": "code",
   "execution_count": 32,
   "id": "4b441772",
   "metadata": {},
   "outputs": [
    {
     "data": {
      "text/plain": [
       "0.05130385604537592"
      ]
     },
     "execution_count": 32,
     "metadata": {},
     "output_type": "execute_result"
    }
   ],
   "source": [
    "p/q"
   ]
  },
  {
   "cell_type": "code",
   "execution_count": 33,
   "id": "77c501e9",
   "metadata": {},
   "outputs": [],
   "source": [
    "x='Care'"
   ]
  },
  {
   "cell_type": "code",
   "execution_count": 34,
   "id": "ccc6b28c",
   "metadata": {},
   "outputs": [],
   "source": [
    "y='er'"
   ]
  },
  {
   "cell_type": "code",
   "execution_count": 53,
   "id": "d27e3632",
   "metadata": {},
   "outputs": [
    {
     "data": {
      "text/plain": [
       "'Gona which helps to improve and break in to new career'"
      ]
     },
     "execution_count": 53,
     "metadata": {},
     "output_type": "execute_result"
    }
   ],
   "source": [
    "x+y"
   ]
  },
  {
   "cell_type": "code",
   "execution_count": 54,
   "id": "f77b9eba",
   "metadata": {},
   "outputs": [],
   "source": [
    "x='Career foundry is an online programme'"
   ]
  },
  {
   "cell_type": "code",
   "execution_count": 55,
   "id": "5328f18a",
   "metadata": {},
   "outputs": [],
   "source": [
    "y='which helps to achieve your career goals'"
   ]
  },
  {
   "cell_type": "code",
   "execution_count": 56,
   "id": "3684ace6",
   "metadata": {},
   "outputs": [
    {
     "data": {
      "text/plain": [
       "'Career foundry is an online programmewhich helps to achieve your career goals'"
      ]
     },
     "execution_count": 56,
     "metadata": {},
     "output_type": "execute_result"
    }
   ],
   "source": [
    "x+y"
   ]
  },
  {
   "cell_type": "raw",
   "id": "1ead3705",
   "metadata": {},
   "source": [
    "# string appear 100 times "
   ]
  },
  {
   "cell_type": "code",
   "execution_count": 60,
   "id": "849325e5",
   "metadata": {},
   "outputs": [],
   "source": [
    "a=' Career'"
   ]
  },
  {
   "cell_type": "code",
   "execution_count": 61,
   "id": "0b817626",
   "metadata": {},
   "outputs": [
    {
     "data": {
      "text/plain": [
       "' Career Career Career Career Career Career Career Career Career Career Career Career Career Career Career Career Career Career Career Career Career Career Career Career Career Career Career Career Career Career Career Career Career Career Career Career Career Career Career Career Career Career Career Career Career Career Career Career Career Career Career Career Career Career Career Career Career Career Career Career Career Career Career Career Career Career Career Career Career Career Career Career Career Career Career Career Career Career Career Career Career Career Career Career Career Career Career Career Career Career Career Career Career Career Career Career Career Career Career Career'"
      ]
     },
     "execution_count": 61,
     "metadata": {},
     "output_type": "execute_result"
    }
   ],
   "source": [
    "a*100"
   ]
  },
  {
   "cell_type": "code",
   "execution_count": null,
   "id": "a4e97292",
   "metadata": {},
   "outputs": [],
   "source": []
  }
 ],
 "metadata": {
  "kernelspec": {
   "display_name": "Python 3 (ipykernel)",
   "language": "python",
   "name": "python3"
  },
  "language_info": {
   "codemirror_mode": {
    "name": "ipython",
    "version": 3
   },
   "file_extension": ".py",
   "mimetype": "text/x-python",
   "name": "python",
   "nbconvert_exporter": "python",
   "pygments_lexer": "ipython3",
   "version": "3.9.13"
  }
 },
 "nbformat": 4,
 "nbformat_minor": 5
}
