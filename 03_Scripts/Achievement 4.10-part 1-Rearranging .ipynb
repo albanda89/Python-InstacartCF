{
 "cells": [
  {
   "cell_type": "markdown",
   "id": "7d22e934",
   "metadata": {},
   "source": [
    "# Coding Etiquette & Excel Reporting Part 1"
   ]
  },
  {
   "cell_type": "markdown",
   "id": "88ad05e0",
   "metadata": {},
   "source": [
    "## Content "
   ]
  },
  {
   "cell_type": "markdown",
   "id": "ad47e216",
   "metadata": {},
   "source": [
    "### 1. Importing-Libreries / Data Set "
   ]
  },
  {
   "cell_type": "markdown",
   "id": "8c90f7f6",
   "metadata": {},
   "source": [
    "### 2. Data security check"
   ]
  },
  {
   "cell_type": "markdown",
   "id": "870a67e1",
   "metadata": {},
   "source": [
    "### 3. Creating a regional segmentation of data"
   ]
  },
  {
   "cell_type": "markdown",
   "id": "46afdb1e",
   "metadata": {},
   "source": [
    "### 4. Creating an exclusion flag for high- and low-activity customers"
   ]
  },
  {
   "cell_type": "markdown",
   "id": "3321c297",
   "metadata": {},
   "source": [
    "### 5.Profiling variable age, income, certain goods, number of dependents "
   ]
  },
  {
   "cell_type": "markdown",
   "id": "3af24bbb",
   "metadata": {},
   "source": [
    "### 6.Visualizations "
   ]
  },
  {
   "cell_type": "markdown",
   "id": "e1e8d523",
   "metadata": {},
   "source": [
    "### 7.Usage frequency and expenditure "
   ]
  },
  {
   "cell_type": "markdown",
   "id": "be9ff2f4",
   "metadata": {},
   "source": [
    "### 8.Exporting "
   ]
  },
  {
   "cell_type": "markdown",
   "id": "2d5cdf51",
   "metadata": {},
   "source": [
    "# 1. Importing Data Set"
   ]
  },
  {
   "cell_type": "code",
   "execution_count": 1,
   "id": "570b0ddf",
   "metadata": {},
   "outputs": [],
   "source": [
    "# Import Libraries \n",
    "\n",
    "import pandas as pd\n",
    "import numpy as np\n",
    "import os\n",
    "import matplotlib.pyplot as plt\n",
    "import seaborn as sns\n",
    "import scipy"
   ]
  },
  {
   "cell_type": "code",
   "execution_count": 2,
   "id": "7965be12",
   "metadata": {},
   "outputs": [],
   "source": [
    "# Importing data \n",
    "\n",
    "path=r'/Users/arunibandara/Documents/Achievement4.9'\n",
    "\n",
    "df_ords_prods_cust=pd.read_pickle(os.path.join(path,'02_Data','prepared_data','Achievement4.9-Task_part1.pkl'))"
   ]
  },
  {
   "cell_type": "code",
   "execution_count": 3,
   "id": "ac8c32a2",
   "metadata": {},
   "outputs": [
    {
     "data": {
      "text/html": [
       "<div>\n",
       "<style scoped>\n",
       "    .dataframe tbody tr th:only-of-type {\n",
       "        vertical-align: middle;\n",
       "    }\n",
       "\n",
       "    .dataframe tbody tr th {\n",
       "        vertical-align: top;\n",
       "    }\n",
       "\n",
       "    .dataframe thead th {\n",
       "        text-align: right;\n",
       "    }\n",
       "</style>\n",
       "<table border=\"1\" class=\"dataframe\">\n",
       "  <thead>\n",
       "    <tr style=\"text-align: right;\">\n",
       "      <th></th>\n",
       "      <th>order_id</th>\n",
       "      <th>user_id</th>\n",
       "      <th>order_number</th>\n",
       "      <th>orders_day_of_week</th>\n",
       "      <th>order_hour_of_day</th>\n",
       "      <th>days_since_prior_order</th>\n",
       "      <th>product_id</th>\n",
       "      <th>add_to_cart_order</th>\n",
       "      <th>reordered</th>\n",
       "      <th>Unnamed: 0</th>\n",
       "      <th>...</th>\n",
       "      <th>spending_flag</th>\n",
       "      <th>median_days</th>\n",
       "      <th>frequency_flag</th>\n",
       "      <th>gender</th>\n",
       "      <th>state</th>\n",
       "      <th>age</th>\n",
       "      <th>date_joined</th>\n",
       "      <th>number_dependants</th>\n",
       "      <th>family_status</th>\n",
       "      <th>income</th>\n",
       "    </tr>\n",
       "  </thead>\n",
       "  <tbody>\n",
       "    <tr>\n",
       "      <th>0</th>\n",
       "      <td>2539329</td>\n",
       "      <td>1</td>\n",
       "      <td>1</td>\n",
       "      <td>2</td>\n",
       "      <td>8</td>\n",
       "      <td>0.0</td>\n",
       "      <td>196</td>\n",
       "      <td>1</td>\n",
       "      <td>0</td>\n",
       "      <td>195</td>\n",
       "      <td>...</td>\n",
       "      <td>Low spender</td>\n",
       "      <td>20.0</td>\n",
       "      <td>Non_frequent_customer</td>\n",
       "      <td>Female</td>\n",
       "      <td>Alabama</td>\n",
       "      <td>31</td>\n",
       "      <td>2/17/2019</td>\n",
       "      <td>3</td>\n",
       "      <td>married</td>\n",
       "      <td>40423</td>\n",
       "    </tr>\n",
       "    <tr>\n",
       "      <th>1</th>\n",
       "      <td>2398795</td>\n",
       "      <td>1</td>\n",
       "      <td>2</td>\n",
       "      <td>3</td>\n",
       "      <td>7</td>\n",
       "      <td>15.0</td>\n",
       "      <td>196</td>\n",
       "      <td>1</td>\n",
       "      <td>1</td>\n",
       "      <td>195</td>\n",
       "      <td>...</td>\n",
       "      <td>Low spender</td>\n",
       "      <td>20.0</td>\n",
       "      <td>Non_frequent_customer</td>\n",
       "      <td>Female</td>\n",
       "      <td>Alabama</td>\n",
       "      <td>31</td>\n",
       "      <td>2/17/2019</td>\n",
       "      <td>3</td>\n",
       "      <td>married</td>\n",
       "      <td>40423</td>\n",
       "    </tr>\n",
       "    <tr>\n",
       "      <th>2</th>\n",
       "      <td>473747</td>\n",
       "      <td>1</td>\n",
       "      <td>3</td>\n",
       "      <td>3</td>\n",
       "      <td>12</td>\n",
       "      <td>21.0</td>\n",
       "      <td>196</td>\n",
       "      <td>1</td>\n",
       "      <td>1</td>\n",
       "      <td>195</td>\n",
       "      <td>...</td>\n",
       "      <td>Low spender</td>\n",
       "      <td>20.0</td>\n",
       "      <td>Non_frequent_customer</td>\n",
       "      <td>Female</td>\n",
       "      <td>Alabama</td>\n",
       "      <td>31</td>\n",
       "      <td>2/17/2019</td>\n",
       "      <td>3</td>\n",
       "      <td>married</td>\n",
       "      <td>40423</td>\n",
       "    </tr>\n",
       "    <tr>\n",
       "      <th>3</th>\n",
       "      <td>2254736</td>\n",
       "      <td>1</td>\n",
       "      <td>4</td>\n",
       "      <td>4</td>\n",
       "      <td>7</td>\n",
       "      <td>29.0</td>\n",
       "      <td>196</td>\n",
       "      <td>1</td>\n",
       "      <td>1</td>\n",
       "      <td>195</td>\n",
       "      <td>...</td>\n",
       "      <td>Low spender</td>\n",
       "      <td>20.0</td>\n",
       "      <td>Non_frequent_customer</td>\n",
       "      <td>Female</td>\n",
       "      <td>Alabama</td>\n",
       "      <td>31</td>\n",
       "      <td>2/17/2019</td>\n",
       "      <td>3</td>\n",
       "      <td>married</td>\n",
       "      <td>40423</td>\n",
       "    </tr>\n",
       "    <tr>\n",
       "      <th>4</th>\n",
       "      <td>431534</td>\n",
       "      <td>1</td>\n",
       "      <td>5</td>\n",
       "      <td>4</td>\n",
       "      <td>15</td>\n",
       "      <td>28.0</td>\n",
       "      <td>196</td>\n",
       "      <td>1</td>\n",
       "      <td>1</td>\n",
       "      <td>195</td>\n",
       "      <td>...</td>\n",
       "      <td>Low spender</td>\n",
       "      <td>20.0</td>\n",
       "      <td>Non_frequent_customer</td>\n",
       "      <td>Female</td>\n",
       "      <td>Alabama</td>\n",
       "      <td>31</td>\n",
       "      <td>2/17/2019</td>\n",
       "      <td>3</td>\n",
       "      <td>married</td>\n",
       "      <td>40423</td>\n",
       "    </tr>\n",
       "  </tbody>\n",
       "</table>\n",
       "<p>5 rows × 27 columns</p>\n",
       "</div>"
      ],
      "text/plain": [
       "   order_id user_id  order_number  orders_day_of_week  order_hour_of_day  \\\n",
       "0   2539329       1             1                   2                  8   \n",
       "1   2398795       1             2                   3                  7   \n",
       "2    473747       1             3                   3                 12   \n",
       "3   2254736       1             4                   4                  7   \n",
       "4    431534       1             5                   4                 15   \n",
       "\n",
       "   days_since_prior_order  product_id  add_to_cart_order  reordered  \\\n",
       "0                     0.0         196                  1          0   \n",
       "1                    15.0         196                  1          1   \n",
       "2                    21.0         196                  1          1   \n",
       "3                    29.0         196                  1          1   \n",
       "4                    28.0         196                  1          1   \n",
       "\n",
       "   Unnamed: 0  ... spending_flag  median_days         frequency_flag  gender  \\\n",
       "0         195  ...   Low spender         20.0  Non_frequent_customer  Female   \n",
       "1         195  ...   Low spender         20.0  Non_frequent_customer  Female   \n",
       "2         195  ...   Low spender         20.0  Non_frequent_customer  Female   \n",
       "3         195  ...   Low spender         20.0  Non_frequent_customer  Female   \n",
       "4         195  ...   Low spender         20.0  Non_frequent_customer  Female   \n",
       "\n",
       "     state age  date_joined number_dependants  family_status income  \n",
       "0  Alabama  31    2/17/2019                 3        married  40423  \n",
       "1  Alabama  31    2/17/2019                 3        married  40423  \n",
       "2  Alabama  31    2/17/2019                 3        married  40423  \n",
       "3  Alabama  31    2/17/2019                 3        married  40423  \n",
       "4  Alabama  31    2/17/2019                 3        married  40423  \n",
       "\n",
       "[5 rows x 27 columns]"
      ]
     },
     "execution_count": 3,
     "metadata": {},
     "output_type": "execute_result"
    }
   ],
   "source": [
    "# Checking dataset \n",
    "\n",
    "df_ords_prods_cust.head()"
   ]
  },
  {
   "cell_type": "code",
   "execution_count": 4,
   "id": "85ccb0c2",
   "metadata": {},
   "outputs": [
    {
     "name": "stdout",
     "output_type": "stream",
     "text": [
      "<class 'pandas.core.frame.DataFrame'>\n",
      "Int64Index: 32434212 entries, 0 to 32434211\n",
      "Data columns (total 27 columns):\n",
      " #   Column                  Dtype  \n",
      "---  ------                  -----  \n",
      " 0   order_id                int64  \n",
      " 1   user_id                 object \n",
      " 2   order_number            int64  \n",
      " 3   orders_day_of_week      int64  \n",
      " 4   order_hour_of_day       int64  \n",
      " 5   days_since_prior_order  float64\n",
      " 6   product_id              int64  \n",
      " 7   add_to_cart_order       int64  \n",
      " 8   reordered               int64  \n",
      " 9   Unnamed: 0              int64  \n",
      " 10  product_name            object \n",
      " 11  aisle_id                int64  \n",
      " 12  department_id           int64  \n",
      " 13  prices                  float64\n",
      " 14  max_order               int64  \n",
      " 15  loyalty_flag            object \n",
      " 16  mean_price              float64\n",
      " 17  spending_flag           object \n",
      " 18  median_days             float64\n",
      " 19  frequency_flag          object \n",
      " 20  gender                  object \n",
      " 21  state                   object \n",
      " 22  age                     int64  \n",
      " 23  date_joined             object \n",
      " 24  number_dependants       int64  \n",
      " 25  family_status           object \n",
      " 26  income                  int64  \n",
      "dtypes: float64(4), int64(14), object(9)\n",
      "memory usage: 6.8+ GB\n"
     ]
    }
   ],
   "source": [
    "df_ords_prods_cust. info()"
   ]
  },
  {
   "cell_type": "code",
   "execution_count": 5,
   "id": "18f1c7c8",
   "metadata": {},
   "outputs": [
    {
     "data": {
      "text/plain": [
       "(32434212, 27)"
      ]
     },
     "execution_count": 5,
     "metadata": {},
     "output_type": "execute_result"
    }
   ],
   "source": [
    "df_ords_prods_cust.shape"
   ]
  },
  {
   "cell_type": "markdown",
   "id": "1fdedd67",
   "metadata": {},
   "source": [
    "# 2. Data Security "
   ]
  },
  {
   "cell_type": "markdown",
   "id": "079d403a",
   "metadata": {},
   "source": [
    "### The data set above has no security implications, since we couldnt identify any  sensitive are names, email addresses, physical addresses, and phone numbers which we can trace back a person with data. "
   ]
  },
  {
   "cell_type": "markdown",
   "id": "9829fa95",
   "metadata": {},
   "source": [
    "# 3. Creating a regional segmentation of data"
   ]
  },
  {
   "cell_type": "code",
   "execution_count": 6,
   "id": "49727c4e",
   "metadata": {},
   "outputs": [
    {
     "data": {
      "text/plain": [
       "Alabama                 638617\n",
       "Alaska                  649020\n",
       "Arizona                 654545\n",
       "Arkansas                636706\n",
       "California              660447\n",
       "Colorado                639752\n",
       "Connecticut             623582\n",
       "Delaware                637447\n",
       "District of Columbia    614293\n",
       "Florida                 629582\n",
       "Georgia                 657072\n",
       "Hawaii                  633445\n",
       "Idaho                   607811\n",
       "Illinois                633490\n",
       "Indiana                 627768\n",
       "Iowa                    626029\n",
       "Kansas                  637991\n",
       "Kentucky                632905\n",
       "Louisiana               638174\n",
       "Maine                   639149\n",
       "Maryland                627278\n",
       "Massachusetts           647000\n",
       "Michigan                631622\n",
       "Minnesota               648408\n",
       "Mississippi             633103\n",
       "Missouri                641313\n",
       "Montana                 635835\n",
       "Nebraska                626297\n",
       "Nevada                  636697\n",
       "New Hampshire           616006\n",
       "New Jersey              628292\n",
       "New Mexico              655143\n",
       "New York                636697\n",
       "North Carolina          652338\n",
       "North Dakota            638999\n",
       "Ohio                    629001\n",
       "Oklahoma                652263\n",
       "Oregon                  636949\n",
       "Pennsylvania            667710\n",
       "Rhode Island            657655\n",
       "South Carolina          637348\n",
       "South Dakota            634340\n",
       "Tennessee               618396\n",
       "Texas                   641058\n",
       "Utah                    612451\n",
       "Vermont                 612256\n",
       "Virginia                642075\n",
       "Washington              633421\n",
       "West Virginia           612955\n",
       "Wisconsin               628552\n",
       "Wyoming                 644929\n",
       "Name: state, dtype: int64"
      ]
     },
     "execution_count": 6,
     "metadata": {},
     "output_type": "execute_result"
    }
   ],
   "source": [
    "# Check the state column\n",
    "\n",
    "df_ords_prods_cust['state'].value_counts().sort_index()"
   ]
  },
  {
   "cell_type": "code",
   "execution_count": 7,
   "id": "f369f484",
   "metadata": {},
   "outputs": [],
   "source": [
    "# Define the regions according to the Wikipedia article t(https://simple.wikipedia.org/wiki/List_of_regions_of_the_United_States)\n",
    "\n",
    "northeast = ['Maine', 'New Hampshire', 'Vermont', 'Massachusetts', 'Rhode Island', 'Connecticut', 'New York', 'Pennsylvania', 'New Jersey']\n",
    "midwest = ['Wisconsin', 'Michigan', 'Illinois', 'Indiana', 'Ohio', 'North Dakota', 'South Dakota', 'Nebraska', 'Kansas', 'Minnesota', 'Iowa', 'Missouri']\n",
    "south = ['Delaware', 'Maryland', 'District of Columbia', 'Virginia', 'West Virginia', 'North Carolina', 'South Carolina', 'Georgia', 'Florida', 'Kentucky', 'Tennessee', 'Mississippi', 'Alabama', 'Oklahoma', 'Texas', 'Arkansas', 'Louisiana']\n",
    "west = ['Idaho', 'Montana', 'Wyoming', 'Nevada', 'Utah', 'Colorado', 'Arizona', 'New Mexico', 'Alaska', 'Washington', 'Oregon', 'California', 'Hawaii']"
   ]
  },
  {
   "cell_type": "code",
   "execution_count": 8,
   "id": "270be70c",
   "metadata": {},
   "outputs": [],
   "source": [
    "# Placing the states into regions\n",
    "\n",
    "df_ords_prods_cust.loc[df_ords_prods_cust['state'].isin(northeast), 'region'] = 'Northeast'\n",
    "df_ords_prods_cust.loc[df_ords_prods_cust['state'].isin(midwest), 'region'] = 'Midwest'\n",
    "df_ords_prods_cust.loc[df_ords_prods_cust['state'].isin(south), 'region'] = 'South'\n",
    "df_ords_prods_cust.loc[df_ords_prods_cust['state'].isin(west), 'region'] = 'West'"
   ]
  },
  {
   "cell_type": "code",
   "execution_count": 9,
   "id": "81ed969c",
   "metadata": {
    "scrolled": true
   },
   "outputs": [
    {
     "data": {
      "text/plain": [
       "South        10801610\n",
       "West          8300445\n",
       "Midwest       7603810\n",
       "Northeast     5728347\n",
       "Name: region, dtype: int64"
      ]
     },
     "execution_count": 9,
     "metadata": {},
     "output_type": "execute_result"
    }
   ],
   "source": [
    "# cheaking the counts of regions \n",
    "\n",
    "df_ords_prods_cust['region'].value_counts(dropna = False)"
   ]
  },
  {
   "cell_type": "code",
   "execution_count": 10,
   "id": "9acf9a92",
   "metadata": {},
   "outputs": [
    {
     "name": "stdout",
     "output_type": "stream",
     "text": [
      "<class 'pandas.core.frame.DataFrame'>\n",
      "Int64Index: 32434212 entries, 0 to 32434211\n",
      "Data columns (total 28 columns):\n",
      " #   Column                  Dtype  \n",
      "---  ------                  -----  \n",
      " 0   order_id                int64  \n",
      " 1   user_id                 object \n",
      " 2   order_number            int64  \n",
      " 3   orders_day_of_week      int64  \n",
      " 4   order_hour_of_day       int64  \n",
      " 5   days_since_prior_order  float64\n",
      " 6   product_id              int64  \n",
      " 7   add_to_cart_order       int64  \n",
      " 8   reordered               int64  \n",
      " 9   Unnamed: 0              int64  \n",
      " 10  product_name            object \n",
      " 11  aisle_id                int64  \n",
      " 12  department_id           int64  \n",
      " 13  prices                  float64\n",
      " 14  max_order               int64  \n",
      " 15  loyalty_flag            object \n",
      " 16  mean_price              float64\n",
      " 17  spending_flag           object \n",
      " 18  median_days             float64\n",
      " 19  frequency_flag          object \n",
      " 20  gender                  object \n",
      " 21  state                   object \n",
      " 22  age                     int64  \n",
      " 23  date_joined             object \n",
      " 24  number_dependants       int64  \n",
      " 25  family_status           object \n",
      " 26  income                  int64  \n",
      " 27  region                  object \n",
      "dtypes: float64(4), int64(14), object(10)\n",
      "memory usage: 7.0+ GB\n"
     ]
    }
   ],
   "source": [
    "# checking with the initial data set \n",
    "\n",
    "df_ords_prods_cust.info()"
   ]
  },
  {
   "cell_type": "code",
   "execution_count": 11,
   "id": "c291c379",
   "metadata": {},
   "outputs": [
    {
     "data": {
      "text/plain": [
       "32434212"
      ]
     },
     "execution_count": 11,
     "metadata": {},
     "output_type": "execute_result"
    }
   ],
   "source": [
    "len(df_ords_prods_cust['region'])"
   ]
  },
  {
   "cell_type": "code",
   "execution_count": 12,
   "id": "aab77bdf",
   "metadata": {},
   "outputs": [],
   "source": [
    "# Determine the difference in spending habits between the regions by \n",
    "# creating a crosstab between 'region' and 'spender_flag'\n",
    "\n",
    "crosstab = pd.crosstab(df_ords_prods_cust['region'], df_ords_prods_cust['spending_flag'], dropna = False)"
   ]
  },
  {
   "cell_type": "code",
   "execution_count": 13,
   "id": "1fd3dc4f",
   "metadata": {},
   "outputs": [
    {
     "data": {
      "text/html": [
       "<div>\n",
       "<style scoped>\n",
       "    .dataframe tbody tr th:only-of-type {\n",
       "        vertical-align: middle;\n",
       "    }\n",
       "\n",
       "    .dataframe tbody tr th {\n",
       "        vertical-align: top;\n",
       "    }\n",
       "\n",
       "    .dataframe thead th {\n",
       "        text-align: right;\n",
       "    }\n",
       "</style>\n",
       "<table border=\"1\" class=\"dataframe\">\n",
       "  <thead>\n",
       "    <tr style=\"text-align: right;\">\n",
       "      <th>spending_flag</th>\n",
       "      <th>Higher spender</th>\n",
       "      <th>Low spender</th>\n",
       "    </tr>\n",
       "    <tr>\n",
       "      <th>region</th>\n",
       "      <th></th>\n",
       "      <th></th>\n",
       "    </tr>\n",
       "  </thead>\n",
       "  <tbody>\n",
       "    <tr>\n",
       "      <th>Midwest</th>\n",
       "      <td>156129</td>\n",
       "      <td>7447681</td>\n",
       "    </tr>\n",
       "    <tr>\n",
       "      <th>Northeast</th>\n",
       "      <td>108343</td>\n",
       "      <td>5620004</td>\n",
       "    </tr>\n",
       "    <tr>\n",
       "      <th>South</th>\n",
       "      <td>210182</td>\n",
       "      <td>10591428</td>\n",
       "    </tr>\n",
       "    <tr>\n",
       "      <th>West</th>\n",
       "      <td>160807</td>\n",
       "      <td>8139638</td>\n",
       "    </tr>\n",
       "  </tbody>\n",
       "</table>\n",
       "</div>"
      ],
      "text/plain": [
       "spending_flag  Higher spender  Low spender\n",
       "region                                    \n",
       "Midwest                156129      7447681\n",
       "Northeast              108343      5620004\n",
       "South                  210182     10591428\n",
       "West                   160807      8139638"
      ]
     },
     "execution_count": 13,
     "metadata": {},
     "output_type": "execute_result"
    }
   ],
   "source": [
    "crosstab"
   ]
  },
  {
   "cell_type": "code",
   "execution_count": 14,
   "id": "9129221e",
   "metadata": {},
   "outputs": [
    {
     "data": {
      "image/png": "[encoded data removed]",
      "text/plain": [
       "<Figure size 640x480 with 1 Axes>"
      ]
     },
     "metadata": {},
     "output_type": "display_data"
    }
   ],
   "source": [
    "# using above reference-(https://www.geeksforgeeks.org/using-pandas-crosstab-to-create-a-bar-plot/)\n",
    "\n",
    "barplot_spender = crosstab.plot.bar(rot=0)"
   ]
  },
  {
   "cell_type": "code",
   "execution_count": 15,
   "id": "8ad95482",
   "metadata": {},
   "outputs": [
    {
     "data": {
      "image/png": "[encoded data removed]",
      "text/plain": [
       "<Figure size 640x480 with 1 Axes>"
      ]
     },
     "metadata": {},
     "output_type": "display_data"
    }
   ],
   "source": [
    "# trying stack bar plot \n",
    "\n",
    "barplot_spender_1 = crosstab.plot(kind=\"bar\", stacked=True, rot=0)"
   ]
  },
  {
   "cell_type": "markdown",
   "id": "86138ebe",
   "metadata": {},
   "source": [
    "# 4. Creating an exclusion flag for low-activity customers"
   ]
  },
  {
   "cell_type": "code",
   "execution_count": 16,
   "id": "fe6c571f",
   "metadata": {},
   "outputs": [],
   "source": [
    "# Create a flag for 'low-activity' and 'High-activity' for customers who order more than 5 orders and less than 5 orders\n",
    "\n",
    "df_ords_prods_cust.loc[df_ords_prods_cust['max_order'] < 5, 'exclusion_flag'] = 'Low-activity'\n",
    "\n",
    "df_ords_prods_cust.loc[df_ords_prods_cust['max_order'] >= 5, 'exclusion_flag'] ='High-activity'"
   ]
  },
  {
   "cell_type": "code",
   "execution_count": 17,
   "id": "100d204c",
   "metadata": {},
   "outputs": [
    {
     "data": {
      "text/html": [
       "<div>\n",
       "<style scoped>\n",
       "    .dataframe tbody tr th:only-of-type {\n",
       "        vertical-align: middle;\n",
       "    }\n",
       "\n",
       "    .dataframe tbody tr th {\n",
       "        vertical-align: top;\n",
       "    }\n",
       "\n",
       "    .dataframe thead th {\n",
       "        text-align: right;\n",
       "    }\n",
       "</style>\n",
       "<table border=\"1\" class=\"dataframe\">\n",
       "  <thead>\n",
       "    <tr style=\"text-align: right;\">\n",
       "      <th></th>\n",
       "      <th>order_id</th>\n",
       "      <th>user_id</th>\n",
       "      <th>order_number</th>\n",
       "      <th>orders_day_of_week</th>\n",
       "      <th>order_hour_of_day</th>\n",
       "      <th>days_since_prior_order</th>\n",
       "      <th>product_id</th>\n",
       "      <th>add_to_cart_order</th>\n",
       "      <th>reordered</th>\n",
       "      <th>Unnamed: 0</th>\n",
       "      <th>...</th>\n",
       "      <th>frequency_flag</th>\n",
       "      <th>gender</th>\n",
       "      <th>state</th>\n",
       "      <th>age</th>\n",
       "      <th>date_joined</th>\n",
       "      <th>number_dependants</th>\n",
       "      <th>family_status</th>\n",
       "      <th>income</th>\n",
       "      <th>region</th>\n",
       "      <th>exclusion_flag</th>\n",
       "    </tr>\n",
       "  </thead>\n",
       "  <tbody>\n",
       "    <tr>\n",
       "      <th>0</th>\n",
       "      <td>2539329</td>\n",
       "      <td>1</td>\n",
       "      <td>1</td>\n",
       "      <td>2</td>\n",
       "      <td>8</td>\n",
       "      <td>0.0</td>\n",
       "      <td>196</td>\n",
       "      <td>1</td>\n",
       "      <td>0</td>\n",
       "      <td>195</td>\n",
       "      <td>...</td>\n",
       "      <td>Non_frequent_customer</td>\n",
       "      <td>Female</td>\n",
       "      <td>Alabama</td>\n",
       "      <td>31</td>\n",
       "      <td>2/17/2019</td>\n",
       "      <td>3</td>\n",
       "      <td>married</td>\n",
       "      <td>40423</td>\n",
       "      <td>South</td>\n",
       "      <td>High-activity</td>\n",
       "    </tr>\n",
       "    <tr>\n",
       "      <th>1</th>\n",
       "      <td>2398795</td>\n",
       "      <td>1</td>\n",
       "      <td>2</td>\n",
       "      <td>3</td>\n",
       "      <td>7</td>\n",
       "      <td>15.0</td>\n",
       "      <td>196</td>\n",
       "      <td>1</td>\n",
       "      <td>1</td>\n",
       "      <td>195</td>\n",
       "      <td>...</td>\n",
       "      <td>Non_frequent_customer</td>\n",
       "      <td>Female</td>\n",
       "      <td>Alabama</td>\n",
       "      <td>31</td>\n",
       "      <td>2/17/2019</td>\n",
       "      <td>3</td>\n",
       "      <td>married</td>\n",
       "      <td>40423</td>\n",
       "      <td>South</td>\n",
       "      <td>High-activity</td>\n",
       "    </tr>\n",
       "    <tr>\n",
       "      <th>2</th>\n",
       "      <td>473747</td>\n",
       "      <td>1</td>\n",
       "      <td>3</td>\n",
       "      <td>3</td>\n",
       "      <td>12</td>\n",
       "      <td>21.0</td>\n",
       "      <td>196</td>\n",
       "      <td>1</td>\n",
       "      <td>1</td>\n",
       "      <td>195</td>\n",
       "      <td>...</td>\n",
       "      <td>Non_frequent_customer</td>\n",
       "      <td>Female</td>\n",
       "      <td>Alabama</td>\n",
       "      <td>31</td>\n",
       "      <td>2/17/2019</td>\n",
       "      <td>3</td>\n",
       "      <td>married</td>\n",
       "      <td>40423</td>\n",
       "      <td>South</td>\n",
       "      <td>High-activity</td>\n",
       "    </tr>\n",
       "    <tr>\n",
       "      <th>3</th>\n",
       "      <td>2254736</td>\n",
       "      <td>1</td>\n",
       "      <td>4</td>\n",
       "      <td>4</td>\n",
       "      <td>7</td>\n",
       "      <td>29.0</td>\n",
       "      <td>196</td>\n",
       "      <td>1</td>\n",
       "      <td>1</td>\n",
       "      <td>195</td>\n",
       "      <td>...</td>\n",
       "      <td>Non_frequent_customer</td>\n",
       "      <td>Female</td>\n",
       "      <td>Alabama</td>\n",
       "      <td>31</td>\n",
       "      <td>2/17/2019</td>\n",
       "      <td>3</td>\n",
       "      <td>married</td>\n",
       "      <td>40423</td>\n",
       "      <td>South</td>\n",
       "      <td>High-activity</td>\n",
       "    </tr>\n",
       "    <tr>\n",
       "      <th>4</th>\n",
       "      <td>431534</td>\n",
       "      <td>1</td>\n",
       "      <td>5</td>\n",
       "      <td>4</td>\n",
       "      <td>15</td>\n",
       "      <td>28.0</td>\n",
       "      <td>196</td>\n",
       "      <td>1</td>\n",
       "      <td>1</td>\n",
       "      <td>195</td>\n",
       "      <td>...</td>\n",
       "      <td>Non_frequent_customer</td>\n",
       "      <td>Female</td>\n",
       "      <td>Alabama</td>\n",
       "      <td>31</td>\n",
       "      <td>2/17/2019</td>\n",
       "      <td>3</td>\n",
       "      <td>married</td>\n",
       "      <td>40423</td>\n",
       "      <td>South</td>\n",
       "      <td>High-activity</td>\n",
       "    </tr>\n",
       "    <tr>\n",
       "      <th>...</th>\n",
       "      <td>...</td>\n",
       "      <td>...</td>\n",
       "      <td>...</td>\n",
       "      <td>...</td>\n",
       "      <td>...</td>\n",
       "      <td>...</td>\n",
       "      <td>...</td>\n",
       "      <td>...</td>\n",
       "      <td>...</td>\n",
       "      <td>...</td>\n",
       "      <td>...</td>\n",
       "      <td>...</td>\n",
       "      <td>...</td>\n",
       "      <td>...</td>\n",
       "      <td>...</td>\n",
       "      <td>...</td>\n",
       "      <td>...</td>\n",
       "      <td>...</td>\n",
       "      <td>...</td>\n",
       "      <td>...</td>\n",
       "      <td>...</td>\n",
       "    </tr>\n",
       "    <tr>\n",
       "      <th>32434207</th>\n",
       "      <td>156685</td>\n",
       "      <td>106143</td>\n",
       "      <td>26</td>\n",
       "      <td>4</td>\n",
       "      <td>23</td>\n",
       "      <td>5.0</td>\n",
       "      <td>19675</td>\n",
       "      <td>1</td>\n",
       "      <td>1</td>\n",
       "      <td>19676</td>\n",
       "      <td>...</td>\n",
       "      <td>Frequent customer</td>\n",
       "      <td>Male</td>\n",
       "      <td>Hawaii</td>\n",
       "      <td>25</td>\n",
       "      <td>5/26/2017</td>\n",
       "      <td>0</td>\n",
       "      <td>single</td>\n",
       "      <td>53755</td>\n",
       "      <td>West</td>\n",
       "      <td>High-activity</td>\n",
       "    </tr>\n",
       "    <tr>\n",
       "      <th>32434208</th>\n",
       "      <td>484769</td>\n",
       "      <td>66343</td>\n",
       "      <td>1</td>\n",
       "      <td>6</td>\n",
       "      <td>11</td>\n",
       "      <td>0.0</td>\n",
       "      <td>47210</td>\n",
       "      <td>1</td>\n",
       "      <td>0</td>\n",
       "      <td>47214</td>\n",
       "      <td>...</td>\n",
       "      <td>Non_frequent_customer</td>\n",
       "      <td>Female</td>\n",
       "      <td>Tennessee</td>\n",
       "      <td>22</td>\n",
       "      <td>9/12/2017</td>\n",
       "      <td>3</td>\n",
       "      <td>married</td>\n",
       "      <td>46151</td>\n",
       "      <td>South</td>\n",
       "      <td>Low-activity</td>\n",
       "    </tr>\n",
       "    <tr>\n",
       "      <th>32434209</th>\n",
       "      <td>1561557</td>\n",
       "      <td>66343</td>\n",
       "      <td>2</td>\n",
       "      <td>1</td>\n",
       "      <td>11</td>\n",
       "      <td>30.0</td>\n",
       "      <td>47210</td>\n",
       "      <td>1</td>\n",
       "      <td>1</td>\n",
       "      <td>47214</td>\n",
       "      <td>...</td>\n",
       "      <td>Non_frequent_customer</td>\n",
       "      <td>Female</td>\n",
       "      <td>Tennessee</td>\n",
       "      <td>22</td>\n",
       "      <td>9/12/2017</td>\n",
       "      <td>3</td>\n",
       "      <td>married</td>\n",
       "      <td>46151</td>\n",
       "      <td>South</td>\n",
       "      <td>Low-activity</td>\n",
       "    </tr>\n",
       "    <tr>\n",
       "      <th>32434210</th>\n",
       "      <td>276317</td>\n",
       "      <td>66343</td>\n",
       "      <td>3</td>\n",
       "      <td>6</td>\n",
       "      <td>15</td>\n",
       "      <td>19.0</td>\n",
       "      <td>47210</td>\n",
       "      <td>1</td>\n",
       "      <td>1</td>\n",
       "      <td>47214</td>\n",
       "      <td>...</td>\n",
       "      <td>Non_frequent_customer</td>\n",
       "      <td>Female</td>\n",
       "      <td>Tennessee</td>\n",
       "      <td>22</td>\n",
       "      <td>9/12/2017</td>\n",
       "      <td>3</td>\n",
       "      <td>married</td>\n",
       "      <td>46151</td>\n",
       "      <td>South</td>\n",
       "      <td>Low-activity</td>\n",
       "    </tr>\n",
       "    <tr>\n",
       "      <th>32434211</th>\n",
       "      <td>2922475</td>\n",
       "      <td>66343</td>\n",
       "      <td>4</td>\n",
       "      <td>1</td>\n",
       "      <td>12</td>\n",
       "      <td>30.0</td>\n",
       "      <td>47210</td>\n",
       "      <td>1</td>\n",
       "      <td>1</td>\n",
       "      <td>47214</td>\n",
       "      <td>...</td>\n",
       "      <td>Non_frequent_customer</td>\n",
       "      <td>Female</td>\n",
       "      <td>Tennessee</td>\n",
       "      <td>22</td>\n",
       "      <td>9/12/2017</td>\n",
       "      <td>3</td>\n",
       "      <td>married</td>\n",
       "      <td>46151</td>\n",
       "      <td>South</td>\n",
       "      <td>Low-activity</td>\n",
       "    </tr>\n",
       "  </tbody>\n",
       "</table>\n",
       "<p>32434212 rows × 29 columns</p>\n",
       "</div>"
      ],
      "text/plain": [
       "          order_id user_id  order_number  orders_day_of_week  \\\n",
       "0          2539329       1             1                   2   \n",
       "1          2398795       1             2                   3   \n",
       "2           473747       1             3                   3   \n",
       "3          2254736       1             4                   4   \n",
       "4           431534       1             5                   4   \n",
       "...            ...     ...           ...                 ...   \n",
       "32434207    156685  106143            26                   4   \n",
       "32434208    484769   66343             1                   6   \n",
       "32434209   1561557   66343             2                   1   \n",
       "32434210    276317   66343             3                   6   \n",
       "32434211   2922475   66343             4                   1   \n",
       "\n",
       "          order_hour_of_day  days_since_prior_order  product_id  \\\n",
       "0                         8                     0.0         196   \n",
       "1                         7                    15.0         196   \n",
       "2                        12                    21.0         196   \n",
       "3                         7                    29.0         196   \n",
       "4                        15                    28.0         196   \n",
       "...                     ...                     ...         ...   \n",
       "32434207                 23                     5.0       19675   \n",
       "32434208                 11                     0.0       47210   \n",
       "32434209                 11                    30.0       47210   \n",
       "32434210                 15                    19.0       47210   \n",
       "32434211                 12                    30.0       47210   \n",
       "\n",
       "          add_to_cart_order  reordered  Unnamed: 0  ...  \\\n",
       "0                         1          0         195  ...   \n",
       "1                         1          1         195  ...   \n",
       "2                         1          1         195  ...   \n",
       "3                         1          1         195  ...   \n",
       "4                         1          1         195  ...   \n",
       "...                     ...        ...         ...  ...   \n",
       "32434207                  1          1       19676  ...   \n",
       "32434208                  1          0       47214  ...   \n",
       "32434209                  1          1       47214  ...   \n",
       "32434210                  1          1       47214  ...   \n",
       "32434211                  1          1       47214  ...   \n",
       "\n",
       "                 frequency_flag  gender      state  age  date_joined  \\\n",
       "0         Non_frequent_customer  Female    Alabama   31    2/17/2019   \n",
       "1         Non_frequent_customer  Female    Alabama   31    2/17/2019   \n",
       "2         Non_frequent_customer  Female    Alabama   31    2/17/2019   \n",
       "3         Non_frequent_customer  Female    Alabama   31    2/17/2019   \n",
       "4         Non_frequent_customer  Female    Alabama   31    2/17/2019   \n",
       "...                         ...     ...        ...  ...          ...   \n",
       "32434207      Frequent customer    Male     Hawaii   25    5/26/2017   \n",
       "32434208  Non_frequent_customer  Female  Tennessee   22    9/12/2017   \n",
       "32434209  Non_frequent_customer  Female  Tennessee   22    9/12/2017   \n",
       "32434210  Non_frequent_customer  Female  Tennessee   22    9/12/2017   \n",
       "32434211  Non_frequent_customer  Female  Tennessee   22    9/12/2017   \n",
       "\n",
       "         number_dependants  family_status income  region exclusion_flag  \n",
       "0                        3        married  40423   South  High-activity  \n",
       "1                        3        married  40423   South  High-activity  \n",
       "2                        3        married  40423   South  High-activity  \n",
       "3                        3        married  40423   South  High-activity  \n",
       "4                        3        married  40423   South  High-activity  \n",
       "...                    ...            ...    ...     ...            ...  \n",
       "32434207                 0         single  53755    West  High-activity  \n",
       "32434208                 3        married  46151   South   Low-activity  \n",
       "32434209                 3        married  46151   South   Low-activity  \n",
       "32434210                 3        married  46151   South   Low-activity  \n",
       "32434211                 3        married  46151   South   Low-activity  \n",
       "\n",
       "[32434212 rows x 29 columns]"
      ]
     },
     "execution_count": 17,
     "metadata": {},
     "output_type": "execute_result"
    }
   ],
   "source": [
    "df_ords_prods_cust"
   ]
  },
  {
   "cell_type": "code",
   "execution_count": 18,
   "id": "c4b1ac99",
   "metadata": {},
   "outputs": [
    {
     "data": {
      "text/plain": [
       "High-activity    30992664\n",
       "Low-activity      1441548\n",
       "Name: exclusion_flag, dtype: int64"
      ]
     },
     "execution_count": 18,
     "metadata": {},
     "output_type": "execute_result"
    }
   ],
   "source": [
    "# Verify that column is updated\n",
    "\n",
    "df_ords_prods_cust['exclusion_flag'].value_counts(dropna = False)"
   ]
  },
  {
   "cell_type": "code",
   "execution_count": 19,
   "id": "6017c9b1",
   "metadata": {},
   "outputs": [
    {
     "data": {
      "text/plain": [
       "32434212"
      ]
     },
     "execution_count": 19,
     "metadata": {},
     "output_type": "execute_result"
    }
   ],
   "source": [
    "# verifing if the all rows are updated \n",
    "\n",
    "len(df_ords_prods_cust['exclusion_flag'])"
   ]
  },
  {
   "cell_type": "code",
   "execution_count": 20,
   "id": "98489b1c",
   "metadata": {},
   "outputs": [],
   "source": [
    "# Create a new dataframe to store the high-activity and low-activity customers \n",
    "\n",
    "df_high_activity = df_ords_prods_cust.loc[df_ords_prods_cust['exclusion_flag'] == 'High-activity']"
   ]
  },
  {
   "cell_type": "code",
   "execution_count": 21,
   "id": "5dac127c",
   "metadata": {},
   "outputs": [],
   "source": [
    "df_low_activity = df_ords_prods_cust.loc[df_ords_prods_cust['exclusion_flag'] == 'Low-activity']"
   ]
  },
  {
   "cell_type": "code",
   "execution_count": 22,
   "id": "7486c732",
   "metadata": {},
   "outputs": [
    {
     "data": {
      "text/plain": [
       "(1441548, 29)"
      ]
     },
     "execution_count": 22,
     "metadata": {},
     "output_type": "execute_result"
    }
   ],
   "source": [
    "df_low_activity.shape"
   ]
  },
  {
   "cell_type": "code",
   "execution_count": 23,
   "id": "4bc23bb6",
   "metadata": {},
   "outputs": [
    {
     "data": {
      "text/plain": [
       "(30992664, 29)"
      ]
     },
     "execution_count": 23,
     "metadata": {},
     "output_type": "execute_result"
    }
   ],
   "source": [
    "df_high_activity.shape"
   ]
  },
  {
   "cell_type": "code",
   "execution_count": 24,
   "id": "4e6d3fb5",
   "metadata": {},
   "outputs": [],
   "source": [
    "# Expeorting seperate data frames as pickel format \n",
    "\n",
    "path=r'/Users/arunibandara/Documents/Achievement 4.10 part 1'\n",
    "\n",
    "df_low_activity.to_pickle(os.path.join(path, '02_Data', 'Prepared data ','low_activity_customers.pkl'))"
   ]
  },
  {
   "cell_type": "code",
   "execution_count": 25,
   "id": "34fcc962",
   "metadata": {},
   "outputs": [],
   "source": [
    "df_high_activity.to_pickle(os.path.join(path, '02_Data', 'Prepared data ','high_activity_customers.pkl'))"
   ]
  },
  {
   "cell_type": "markdown",
   "id": "a9fcd325",
   "metadata": {},
   "source": [
    "### 5. Create a profiling variable based on age, income, certain goods in the “department_id” column, and number of dependents. \n",
    "\n",
    "### 6.Create an appropriate visualization to show the distribution of profiles.\n",
    "\n",
    "###  7. Aggregate the max, mean, and min variables on a customer-profile level for usage frequency and expenditure."
   ]
  },
  {
   "cell_type": "code",
   "execution_count": 26,
   "id": "da8d5e19",
   "metadata": {},
   "outputs": [],
   "source": [
    "# import high_activity_custm data\n",
    "\n",
    "df_high_activity_custm = pd.read_pickle(os.path.join(path, '02_Data', 'Prepared data ','high_activity_customers.pkl'))"
   ]
  },
  {
   "cell_type": "code",
   "execution_count": 27,
   "id": "ceffef24",
   "metadata": {},
   "outputs": [
    {
     "name": "stdout",
     "output_type": "stream",
     "text": [
      "<class 'pandas.core.frame.DataFrame'>\n",
      "Int64Index: 30992664 entries, 0 to 32434207\n",
      "Data columns (total 29 columns):\n",
      " #   Column                  Dtype  \n",
      "---  ------                  -----  \n",
      " 0   order_id                int64  \n",
      " 1   user_id                 object \n",
      " 2   order_number            int64  \n",
      " 3   orders_day_of_week      int64  \n",
      " 4   order_hour_of_day       int64  \n",
      " 5   days_since_prior_order  float64\n",
      " 6   product_id              int64  \n",
      " 7   add_to_cart_order       int64  \n",
      " 8   reordered               int64  \n",
      " 9   Unnamed: 0              int64  \n",
      " 10  product_name            object \n",
      " 11  aisle_id                int64  \n",
      " 12  department_id           int64  \n",
      " 13  prices                  float64\n",
      " 14  max_order               int64  \n",
      " 15  loyalty_flag            object \n",
      " 16  mean_price              float64\n",
      " 17  spending_flag           object \n",
      " 18  median_days             float64\n",
      " 19  frequency_flag          object \n",
      " 20  gender                  object \n",
      " 21  state                   object \n",
      " 22  age                     int64  \n",
      " 23  date_joined             object \n",
      " 24  number_dependants       int64  \n",
      " 25  family_status           object \n",
      " 26  income                  int64  \n",
      " 27  region                  object \n",
      " 28  exclusion_flag          object \n",
      "dtypes: float64(4), int64(14), object(11)\n",
      "memory usage: 6.9+ GB\n"
     ]
    }
   ],
   "source": [
    "# Cheaking the data set \n",
    "\n",
    "df_high_activity_custm.info()"
   ]
  },
  {
   "cell_type": "code",
   "execution_count": 28,
   "id": "363f5d21",
   "metadata": {},
   "outputs": [],
   "source": [
    "# importing dataframe\n",
    "\n",
    "path=r'/Users/arunibandara/Documents/Achievement4.4-new'\n",
    "\n",
    "df_dept=pd.read_csv(os.path.join(path, '02 Data', 'prepared_data', 'department_wrangled_new1.csv'), index_col = False)"
   ]
  },
  {
   "cell_type": "code",
   "execution_count": 29,
   "id": "2e688043",
   "metadata": {},
   "outputs": [
    {
     "data": {
      "text/html": [
       "<div>\n",
       "<style scoped>\n",
       "    .dataframe tbody tr th:only-of-type {\n",
       "        vertical-align: middle;\n",
       "    }\n",
       "\n",
       "    .dataframe tbody tr th {\n",
       "        vertical-align: top;\n",
       "    }\n",
       "\n",
       "    .dataframe thead th {\n",
       "        text-align: right;\n",
       "    }\n",
       "</style>\n",
       "<table border=\"1\" class=\"dataframe\">\n",
       "  <thead>\n",
       "    <tr style=\"text-align: right;\">\n",
       "      <th></th>\n",
       "      <th>Unnamed: 0</th>\n",
       "      <th>department</th>\n",
       "    </tr>\n",
       "  </thead>\n",
       "  <tbody>\n",
       "    <tr>\n",
       "      <th>0</th>\n",
       "      <td>1</td>\n",
       "      <td>frozen</td>\n",
       "    </tr>\n",
       "    <tr>\n",
       "      <th>1</th>\n",
       "      <td>2</td>\n",
       "      <td>other</td>\n",
       "    </tr>\n",
       "    <tr>\n",
       "      <th>2</th>\n",
       "      <td>3</td>\n",
       "      <td>bakery</td>\n",
       "    </tr>\n",
       "    <tr>\n",
       "      <th>3</th>\n",
       "      <td>4</td>\n",
       "      <td>produce</td>\n",
       "    </tr>\n",
       "    <tr>\n",
       "      <th>4</th>\n",
       "      <td>5</td>\n",
       "      <td>alcohol</td>\n",
       "    </tr>\n",
       "    <tr>\n",
       "      <th>5</th>\n",
       "      <td>6</td>\n",
       "      <td>international</td>\n",
       "    </tr>\n",
       "    <tr>\n",
       "      <th>6</th>\n",
       "      <td>7</td>\n",
       "      <td>beverages</td>\n",
       "    </tr>\n",
       "    <tr>\n",
       "      <th>7</th>\n",
       "      <td>8</td>\n",
       "      <td>pets</td>\n",
       "    </tr>\n",
       "    <tr>\n",
       "      <th>8</th>\n",
       "      <td>9</td>\n",
       "      <td>dry goods pasta</td>\n",
       "    </tr>\n",
       "    <tr>\n",
       "      <th>9</th>\n",
       "      <td>10</td>\n",
       "      <td>bulk</td>\n",
       "    </tr>\n",
       "    <tr>\n",
       "      <th>10</th>\n",
       "      <td>11</td>\n",
       "      <td>personal care</td>\n",
       "    </tr>\n",
       "    <tr>\n",
       "      <th>11</th>\n",
       "      <td>12</td>\n",
       "      <td>meat seafood</td>\n",
       "    </tr>\n",
       "    <tr>\n",
       "      <th>12</th>\n",
       "      <td>13</td>\n",
       "      <td>pantry</td>\n",
       "    </tr>\n",
       "    <tr>\n",
       "      <th>13</th>\n",
       "      <td>14</td>\n",
       "      <td>breakfast</td>\n",
       "    </tr>\n",
       "    <tr>\n",
       "      <th>14</th>\n",
       "      <td>15</td>\n",
       "      <td>canned goods</td>\n",
       "    </tr>\n",
       "    <tr>\n",
       "      <th>15</th>\n",
       "      <td>16</td>\n",
       "      <td>dairy eggs</td>\n",
       "    </tr>\n",
       "    <tr>\n",
       "      <th>16</th>\n",
       "      <td>17</td>\n",
       "      <td>household</td>\n",
       "    </tr>\n",
       "    <tr>\n",
       "      <th>17</th>\n",
       "      <td>18</td>\n",
       "      <td>babies</td>\n",
       "    </tr>\n",
       "    <tr>\n",
       "      <th>18</th>\n",
       "      <td>19</td>\n",
       "      <td>snacks</td>\n",
       "    </tr>\n",
       "    <tr>\n",
       "      <th>19</th>\n",
       "      <td>20</td>\n",
       "      <td>deli</td>\n",
       "    </tr>\n",
       "    <tr>\n",
       "      <th>20</th>\n",
       "      <td>21</td>\n",
       "      <td>missing</td>\n",
       "    </tr>\n",
       "  </tbody>\n",
       "</table>\n",
       "</div>"
      ],
      "text/plain": [
       "    Unnamed: 0       department\n",
       "0            1           frozen\n",
       "1            2            other\n",
       "2            3           bakery\n",
       "3            4          produce\n",
       "4            5          alcohol\n",
       "5            6    international\n",
       "6            7        beverages\n",
       "7            8             pets\n",
       "8            9  dry goods pasta\n",
       "9           10             bulk\n",
       "10          11    personal care\n",
       "11          12     meat seafood\n",
       "12          13           pantry\n",
       "13          14        breakfast\n",
       "14          15     canned goods\n",
       "15          16       dairy eggs\n",
       "16          17        household\n",
       "17          18           babies\n",
       "18          19           snacks\n",
       "19          20             deli\n",
       "20          21          missing"
      ]
     },
     "execution_count": 29,
     "metadata": {},
     "output_type": "execute_result"
    }
   ],
   "source": [
    "df_dept"
   ]
  },
  {
   "cell_type": "code",
   "execution_count": 30,
   "id": "05c8018d",
   "metadata": {},
   "outputs": [],
   "source": [
    "df_dept.rename(columns= {\"Unnamed: 0\": \"department_id\"}, inplace = True)"
   ]
  },
  {
   "cell_type": "code",
   "execution_count": 31,
   "id": "83cb854d",
   "metadata": {},
   "outputs": [
    {
     "data": {
      "text/html": [
       "<div>\n",
       "<style scoped>\n",
       "    .dataframe tbody tr th:only-of-type {\n",
       "        vertical-align: middle;\n",
       "    }\n",
       "\n",
       "    .dataframe tbody tr th {\n",
       "        vertical-align: top;\n",
       "    }\n",
       "\n",
       "    .dataframe thead th {\n",
       "        text-align: right;\n",
       "    }\n",
       "</style>\n",
       "<table border=\"1\" class=\"dataframe\">\n",
       "  <thead>\n",
       "    <tr style=\"text-align: right;\">\n",
       "      <th></th>\n",
       "      <th>department_id</th>\n",
       "      <th>department</th>\n",
       "    </tr>\n",
       "  </thead>\n",
       "  <tbody>\n",
       "    <tr>\n",
       "      <th>0</th>\n",
       "      <td>1</td>\n",
       "      <td>frozen</td>\n",
       "    </tr>\n",
       "    <tr>\n",
       "      <th>1</th>\n",
       "      <td>2</td>\n",
       "      <td>other</td>\n",
       "    </tr>\n",
       "    <tr>\n",
       "      <th>2</th>\n",
       "      <td>3</td>\n",
       "      <td>bakery</td>\n",
       "    </tr>\n",
       "  </tbody>\n",
       "</table>\n",
       "</div>"
      ],
      "text/plain": [
       "   department_id department\n",
       "0              1     frozen\n",
       "1              2      other\n",
       "2              3     bakery"
      ]
     },
     "execution_count": 31,
     "metadata": {},
     "output_type": "execute_result"
    }
   ],
   "source": [
    "df_dept.head(3)"
   ]
  },
  {
   "cell_type": "markdown",
   "id": "a38f1815",
   "metadata": {},
   "source": [
    "# Creating profile based on age "
   ]
  },
  {
   "cell_type": "code",
   "execution_count": 32,
   "id": "9abcc6c2",
   "metadata": {},
   "outputs": [
    {
     "data": {
      "text/html": [
       "<div>\n",
       "<style scoped>\n",
       "    .dataframe tbody tr th:only-of-type {\n",
       "        vertical-align: middle;\n",
       "    }\n",
       "\n",
       "    .dataframe tbody tr th {\n",
       "        vertical-align: top;\n",
       "    }\n",
       "\n",
       "    .dataframe thead th {\n",
       "        text-align: right;\n",
       "    }\n",
       "</style>\n",
       "<table border=\"1\" class=\"dataframe\">\n",
       "  <thead>\n",
       "    <tr style=\"text-align: right;\">\n",
       "      <th></th>\n",
       "      <th>order_id</th>\n",
       "      <th>order_number</th>\n",
       "      <th>orders_day_of_week</th>\n",
       "      <th>order_hour_of_day</th>\n",
       "      <th>days_since_prior_order</th>\n",
       "      <th>product_id</th>\n",
       "      <th>add_to_cart_order</th>\n",
       "      <th>reordered</th>\n",
       "      <th>Unnamed: 0</th>\n",
       "      <th>aisle_id</th>\n",
       "      <th>department_id</th>\n",
       "      <th>prices</th>\n",
       "      <th>max_order</th>\n",
       "      <th>mean_price</th>\n",
       "      <th>median_days</th>\n",
       "      <th>age</th>\n",
       "      <th>number_dependants</th>\n",
       "      <th>income</th>\n",
       "    </tr>\n",
       "  </thead>\n",
       "  <tbody>\n",
       "    <tr>\n",
       "      <th>count</th>\n",
       "      <td>3.099266e+07</td>\n",
       "      <td>3.099266e+07</td>\n",
       "      <td>3.099266e+07</td>\n",
       "      <td>3.099266e+07</td>\n",
       "      <td>3.099266e+07</td>\n",
       "      <td>3.099266e+07</td>\n",
       "      <td>3.099266e+07</td>\n",
       "      <td>3.099266e+07</td>\n",
       "      <td>3.099266e+07</td>\n",
       "      <td>3.099266e+07</td>\n",
       "      <td>3.099266e+07</td>\n",
       "      <td>3.099266e+07</td>\n",
       "      <td>3.099266e+07</td>\n",
       "      <td>3.099266e+07</td>\n",
       "      <td>3.099266e+07</td>\n",
       "      <td>3.099266e+07</td>\n",
       "      <td>3.099266e+07</td>\n",
       "      <td>3.099266e+07</td>\n",
       "    </tr>\n",
       "    <tr>\n",
       "      <th>mean</th>\n",
       "      <td>1.710321e+06</td>\n",
       "      <td>1.783372e+01</td>\n",
       "      <td>2.741342e+00</td>\n",
       "      <td>1.341082e+01</td>\n",
       "      <td>1.023037e+01</td>\n",
       "      <td>2.557757e+04</td>\n",
       "      <td>8.361651e+00</td>\n",
       "      <td>6.062036e-01</td>\n",
       "      <td>2.557927e+04</td>\n",
       "      <td>7.120896e+01</td>\n",
       "      <td>9.924801e+00</td>\n",
       "      <td>1.193448e+01</td>\n",
       "      <td>3.442563e+01</td>\n",
       "      <td>1.193448e+01</td>\n",
       "      <td>9.338292e+00</td>\n",
       "      <td>4.946793e+01</td>\n",
       "      <td>1.501798e+00</td>\n",
       "      <td>9.967322e+04</td>\n",
       "    </tr>\n",
       "    <tr>\n",
       "      <th>std</th>\n",
       "      <td>9.873797e+05</td>\n",
       "      <td>1.763399e+01</td>\n",
       "      <td>2.089226e+00</td>\n",
       "      <td>4.248811e+00</td>\n",
       "      <td>8.693433e+00</td>\n",
       "      <td>1.409313e+04</td>\n",
       "      <td>7.135006e+00</td>\n",
       "      <td>4.885906e-01</td>\n",
       "      <td>1.409468e+04</td>\n",
       "      <td>3.821479e+01</td>\n",
       "      <td>6.282146e+00</td>\n",
       "      <td>4.911216e+02</td>\n",
       "      <td>2.489426e+01</td>\n",
       "      <td>7.987316e+01</td>\n",
       "      <td>6.077146e+00</td>\n",
       "      <td>1.848520e+01</td>\n",
       "      <td>1.118902e+00</td>\n",
       "      <td>4.313928e+04</td>\n",
       "    </tr>\n",
       "    <tr>\n",
       "      <th>min</th>\n",
       "      <td>2.000000e+00</td>\n",
       "      <td>1.000000e+00</td>\n",
       "      <td>0.000000e+00</td>\n",
       "      <td>0.000000e+00</td>\n",
       "      <td>0.000000e+00</td>\n",
       "      <td>1.000000e+00</td>\n",
       "      <td>1.000000e+00</td>\n",
       "      <td>0.000000e+00</td>\n",
       "      <td>0.000000e+00</td>\n",
       "      <td>1.000000e+00</td>\n",
       "      <td>1.000000e+00</td>\n",
       "      <td>1.000000e+00</td>\n",
       "      <td>5.000000e+00</td>\n",
       "      <td>1.000000e+00</td>\n",
       "      <td>0.000000e+00</td>\n",
       "      <td>1.800000e+01</td>\n",
       "      <td>0.000000e+00</td>\n",
       "      <td>2.590300e+04</td>\n",
       "    </tr>\n",
       "    <tr>\n",
       "      <th>25%</th>\n",
       "      <td>8.554110e+05</td>\n",
       "      <td>5.000000e+00</td>\n",
       "      <td>1.000000e+00</td>\n",
       "      <td>1.000000e+01</td>\n",
       "      <td>4.000000e+00</td>\n",
       "      <td>1.353500e+04</td>\n",
       "      <td>3.000000e+00</td>\n",
       "      <td>0.000000e+00</td>\n",
       "      <td>1.353500e+04</td>\n",
       "      <td>3.100000e+01</td>\n",
       "      <td>4.000000e+00</td>\n",
       "      <td>4.200000e+00</td>\n",
       "      <td>1.400000e+01</td>\n",
       "      <td>7.398110e+00</td>\n",
       "      <td>6.000000e+00</td>\n",
       "      <td>3.300000e+01</td>\n",
       "      <td>1.000000e+00</td>\n",
       "      <td>6.728900e+04</td>\n",
       "    </tr>\n",
       "    <tr>\n",
       "      <th>50%</th>\n",
       "      <td>1.710404e+06</td>\n",
       "      <td>1.200000e+01</td>\n",
       "      <td>3.000000e+00</td>\n",
       "      <td>1.300000e+01</td>\n",
       "      <td>7.000000e+00</td>\n",
       "      <td>2.525600e+04</td>\n",
       "      <td>6.000000e+00</td>\n",
       "      <td>1.000000e+00</td>\n",
       "      <td>2.525700e+04</td>\n",
       "      <td>8.300000e+01</td>\n",
       "      <td>9.000000e+00</td>\n",
       "      <td>7.400000e+00</td>\n",
       "      <td>2.800000e+01</td>\n",
       "      <td>7.829827e+00</td>\n",
       "      <td>7.000000e+00</td>\n",
       "      <td>4.900000e+01</td>\n",
       "      <td>2.000000e+00</td>\n",
       "      <td>9.676500e+04</td>\n",
       "    </tr>\n",
       "    <tr>\n",
       "      <th>75%</th>\n",
       "      <td>2.565216e+06</td>\n",
       "      <td>2.500000e+01</td>\n",
       "      <td>5.000000e+00</td>\n",
       "      <td>1.600000e+01</td>\n",
       "      <td>1.400000e+01</td>\n",
       "      <td>3.793100e+04</td>\n",
       "      <td>1.100000e+01</td>\n",
       "      <td>1.000000e+00</td>\n",
       "      <td>3.793500e+04</td>\n",
       "      <td>1.070000e+02</td>\n",
       "      <td>1.600000e+01</td>\n",
       "      <td>1.130000e+01</td>\n",
       "      <td>4.800000e+01</td>\n",
       "      <td>8.253606e+00</td>\n",
       "      <td>1.100000e+01</td>\n",
       "      <td>6.500000e+01</td>\n",
       "      <td>3.000000e+00</td>\n",
       "      <td>1.281010e+05</td>\n",
       "    </tr>\n",
       "    <tr>\n",
       "      <th>max</th>\n",
       "      <td>3.421083e+06</td>\n",
       "      <td>9.900000e+01</td>\n",
       "      <td>6.000000e+00</td>\n",
       "      <td>2.300000e+01</td>\n",
       "      <td>3.000000e+01</td>\n",
       "      <td>4.968800e+04</td>\n",
       "      <td>1.450000e+02</td>\n",
       "      <td>1.000000e+00</td>\n",
       "      <td>4.969200e+04</td>\n",
       "      <td>1.340000e+02</td>\n",
       "      <td>2.100000e+01</td>\n",
       "      <td>9.999900e+04</td>\n",
       "      <td>9.900000e+01</td>\n",
       "      <td>1.500694e+04</td>\n",
       "      <td>3.000000e+01</td>\n",
       "      <td>8.100000e+01</td>\n",
       "      <td>3.000000e+00</td>\n",
       "      <td>5.939010e+05</td>\n",
       "    </tr>\n",
       "  </tbody>\n",
       "</table>\n",
       "</div>"
      ],
      "text/plain": [
       "           order_id  order_number  orders_day_of_week  order_hour_of_day  \\\n",
       "count  3.099266e+07  3.099266e+07        3.099266e+07       3.099266e+07   \n",
       "mean   1.710321e+06  1.783372e+01        2.741342e+00       1.341082e+01   \n",
       "std    9.873797e+05  1.763399e+01        2.089226e+00       4.248811e+00   \n",
       "min    2.000000e+00  1.000000e+00        0.000000e+00       0.000000e+00   \n",
       "25%    8.554110e+05  5.000000e+00        1.000000e+00       1.000000e+01   \n",
       "50%    1.710404e+06  1.200000e+01        3.000000e+00       1.300000e+01   \n",
       "75%    2.565216e+06  2.500000e+01        5.000000e+00       1.600000e+01   \n",
       "max    3.421083e+06  9.900000e+01        6.000000e+00       2.300000e+01   \n",
       "\n",
       "       days_since_prior_order    product_id  add_to_cart_order     reordered  \\\n",
       "count            3.099266e+07  3.099266e+07       3.099266e+07  3.099266e+07   \n",
       "mean             1.023037e+01  2.557757e+04       8.361651e+00  6.062036e-01   \n",
       "std              8.693433e+00  1.409313e+04       7.135006e+00  4.885906e-01   \n",
       "min              0.000000e+00  1.000000e+00       1.000000e+00  0.000000e+00   \n",
       "25%              4.000000e+00  1.353500e+04       3.000000e+00  0.000000e+00   \n",
       "50%              7.000000e+00  2.525600e+04       6.000000e+00  1.000000e+00   \n",
       "75%              1.400000e+01  3.793100e+04       1.100000e+01  1.000000e+00   \n",
       "max              3.000000e+01  4.968800e+04       1.450000e+02  1.000000e+00   \n",
       "\n",
       "         Unnamed: 0      aisle_id  department_id        prices     max_order  \\\n",
       "count  3.099266e+07  3.099266e+07   3.099266e+07  3.099266e+07  3.099266e+07   \n",
       "mean   2.557927e+04  7.120896e+01   9.924801e+00  1.193448e+01  3.442563e+01   \n",
       "std    1.409468e+04  3.821479e+01   6.282146e+00  4.911216e+02  2.489426e+01   \n",
       "min    0.000000e+00  1.000000e+00   1.000000e+00  1.000000e+00  5.000000e+00   \n",
       "25%    1.353500e+04  3.100000e+01   4.000000e+00  4.200000e+00  1.400000e+01   \n",
       "50%    2.525700e+04  8.300000e+01   9.000000e+00  7.400000e+00  2.800000e+01   \n",
       "75%    3.793500e+04  1.070000e+02   1.600000e+01  1.130000e+01  4.800000e+01   \n",
       "max    4.969200e+04  1.340000e+02   2.100000e+01  9.999900e+04  9.900000e+01   \n",
       "\n",
       "         mean_price   median_days           age  number_dependants  \\\n",
       "count  3.099266e+07  3.099266e+07  3.099266e+07       3.099266e+07   \n",
       "mean   1.193448e+01  9.338292e+00  4.946793e+01       1.501798e+00   \n",
       "std    7.987316e+01  6.077146e+00  1.848520e+01       1.118902e+00   \n",
       "min    1.000000e+00  0.000000e+00  1.800000e+01       0.000000e+00   \n",
       "25%    7.398110e+00  6.000000e+00  3.300000e+01       1.000000e+00   \n",
       "50%    7.829827e+00  7.000000e+00  4.900000e+01       2.000000e+00   \n",
       "75%    8.253606e+00  1.100000e+01  6.500000e+01       3.000000e+00   \n",
       "max    1.500694e+04  3.000000e+01  8.100000e+01       3.000000e+00   \n",
       "\n",
       "             income  \n",
       "count  3.099266e+07  \n",
       "mean   9.967322e+04  \n",
       "std    4.313928e+04  \n",
       "min    2.590300e+04  \n",
       "25%    6.728900e+04  \n",
       "50%    9.676500e+04  \n",
       "75%    1.281010e+05  \n",
       "max    5.939010e+05  "
      ]
     },
     "execution_count": 32,
     "metadata": {},
     "output_type": "execute_result"
    }
   ],
   "source": [
    "df_high_activity_custm.describe()"
   ]
  },
  {
   "cell_type": "code",
   "execution_count": 33,
   "id": "9478939e",
   "metadata": {},
   "outputs": [
    {
     "data": {
      "text/plain": [
       "count    3.099266e+07\n",
       "mean     4.946793e+01\n",
       "std      1.848520e+01\n",
       "min      1.800000e+01\n",
       "25%      3.300000e+01\n",
       "50%      4.900000e+01\n",
       "75%      6.500000e+01\n",
       "max      8.100000e+01\n",
       "Name: age, dtype: float64"
      ]
     },
     "execution_count": 33,
     "metadata": {},
     "output_type": "execute_result"
    }
   ],
   "source": [
    "df_high_activity_custm['age'].describe()"
   ]
  },
  {
   "cell_type": "markdown",
   "id": "25baa2fe",
   "metadata": {},
   "source": [
    "### Minimum age =18     Maximum age =81 \n",
    "### Therefore the age groups can be categorized as 18-39=Young age , 40-65= Middle age and  65 + = Elderly age"
   ]
  },
  {
   "cell_type": "code",
   "execution_count": 34,
   "id": "66f51fe7",
   "metadata": {},
   "outputs": [],
   "source": [
    "# creating conditions for each ge groups \n",
    "\n",
    "df_high_activity_custm.loc[(df_high_activity_custm['age'] >=18) & (df_high_activity_custm['age'] < 40), 'agecategory_flag'] = 'Young age'"
   ]
  },
  {
   "cell_type": "code",
   "execution_count": 35,
   "id": "715cf794",
   "metadata": {},
   "outputs": [],
   "source": [
    "df_high_activity_custm.loc[(df_high_activity_custm['age'] >=40) & (df_high_activity_custm['age'] < 65), 'agecategory_flag'] = 'Middle age'"
   ]
  },
  {
   "cell_type": "code",
   "execution_count": 36,
   "id": "457c9bcc",
   "metadata": {},
   "outputs": [],
   "source": [
    "df_high_activity_custm.loc[(df_high_activity_custm['age'] >=65),'agecategory_flag'] = 'Elderly age'"
   ]
  },
  {
   "cell_type": "code",
   "execution_count": 37,
   "id": "44fc2fa8",
   "metadata": {},
   "outputs": [
    {
     "data": {
      "text/plain": [
       "Middle age     12115268\n",
       "Young age      10674650\n",
       "Elderly age     8202746\n",
       "Name: agecategory_flag, dtype: int64"
      ]
     },
     "execution_count": 37,
     "metadata": {},
     "output_type": "execute_result"
    }
   ],
   "source": [
    "df_high_activity_custm['agecategory_flag'].value_counts(dropna = False)"
   ]
  },
  {
   "cell_type": "code",
   "execution_count": 38,
   "id": "5183a5de",
   "metadata": {},
   "outputs": [
    {
     "data": {
      "text/html": [
       "<div>\n",
       "<style scoped>\n",
       "    .dataframe tbody tr th:only-of-type {\n",
       "        vertical-align: middle;\n",
       "    }\n",
       "\n",
       "    .dataframe tbody tr th {\n",
       "        vertical-align: top;\n",
       "    }\n",
       "\n",
       "    .dataframe thead th {\n",
       "        text-align: right;\n",
       "    }\n",
       "</style>\n",
       "<table border=\"1\" class=\"dataframe\">\n",
       "  <thead>\n",
       "    <tr style=\"text-align: right;\">\n",
       "      <th></th>\n",
       "      <th>order_id</th>\n",
       "      <th>user_id</th>\n",
       "      <th>order_number</th>\n",
       "      <th>orders_day_of_week</th>\n",
       "      <th>order_hour_of_day</th>\n",
       "      <th>days_since_prior_order</th>\n",
       "      <th>product_id</th>\n",
       "      <th>add_to_cart_order</th>\n",
       "      <th>reordered</th>\n",
       "      <th>Unnamed: 0</th>\n",
       "      <th>...</th>\n",
       "      <th>gender</th>\n",
       "      <th>state</th>\n",
       "      <th>age</th>\n",
       "      <th>date_joined</th>\n",
       "      <th>number_dependants</th>\n",
       "      <th>family_status</th>\n",
       "      <th>income</th>\n",
       "      <th>region</th>\n",
       "      <th>exclusion_flag</th>\n",
       "      <th>agecategory_flag</th>\n",
       "    </tr>\n",
       "  </thead>\n",
       "  <tbody>\n",
       "    <tr>\n",
       "      <th>0</th>\n",
       "      <td>2539329</td>\n",
       "      <td>1</td>\n",
       "      <td>1</td>\n",
       "      <td>2</td>\n",
       "      <td>8</td>\n",
       "      <td>0.0</td>\n",
       "      <td>196</td>\n",
       "      <td>1</td>\n",
       "      <td>0</td>\n",
       "      <td>195</td>\n",
       "      <td>...</td>\n",
       "      <td>Female</td>\n",
       "      <td>Alabama</td>\n",
       "      <td>31</td>\n",
       "      <td>2/17/2019</td>\n",
       "      <td>3</td>\n",
       "      <td>married</td>\n",
       "      <td>40423</td>\n",
       "      <td>South</td>\n",
       "      <td>High-activity</td>\n",
       "      <td>Young age</td>\n",
       "    </tr>\n",
       "    <tr>\n",
       "      <th>1</th>\n",
       "      <td>2398795</td>\n",
       "      <td>1</td>\n",
       "      <td>2</td>\n",
       "      <td>3</td>\n",
       "      <td>7</td>\n",
       "      <td>15.0</td>\n",
       "      <td>196</td>\n",
       "      <td>1</td>\n",
       "      <td>1</td>\n",
       "      <td>195</td>\n",
       "      <td>...</td>\n",
       "      <td>Female</td>\n",
       "      <td>Alabama</td>\n",
       "      <td>31</td>\n",
       "      <td>2/17/2019</td>\n",
       "      <td>3</td>\n",
       "      <td>married</td>\n",
       "      <td>40423</td>\n",
       "      <td>South</td>\n",
       "      <td>High-activity</td>\n",
       "      <td>Young age</td>\n",
       "    </tr>\n",
       "    <tr>\n",
       "      <th>2</th>\n",
       "      <td>473747</td>\n",
       "      <td>1</td>\n",
       "      <td>3</td>\n",
       "      <td>3</td>\n",
       "      <td>12</td>\n",
       "      <td>21.0</td>\n",
       "      <td>196</td>\n",
       "      <td>1</td>\n",
       "      <td>1</td>\n",
       "      <td>195</td>\n",
       "      <td>...</td>\n",
       "      <td>Female</td>\n",
       "      <td>Alabama</td>\n",
       "      <td>31</td>\n",
       "      <td>2/17/2019</td>\n",
       "      <td>3</td>\n",
       "      <td>married</td>\n",
       "      <td>40423</td>\n",
       "      <td>South</td>\n",
       "      <td>High-activity</td>\n",
       "      <td>Young age</td>\n",
       "    </tr>\n",
       "    <tr>\n",
       "      <th>3</th>\n",
       "      <td>2254736</td>\n",
       "      <td>1</td>\n",
       "      <td>4</td>\n",
       "      <td>4</td>\n",
       "      <td>7</td>\n",
       "      <td>29.0</td>\n",
       "      <td>196</td>\n",
       "      <td>1</td>\n",
       "      <td>1</td>\n",
       "      <td>195</td>\n",
       "      <td>...</td>\n",
       "      <td>Female</td>\n",
       "      <td>Alabama</td>\n",
       "      <td>31</td>\n",
       "      <td>2/17/2019</td>\n",
       "      <td>3</td>\n",
       "      <td>married</td>\n",
       "      <td>40423</td>\n",
       "      <td>South</td>\n",
       "      <td>High-activity</td>\n",
       "      <td>Young age</td>\n",
       "    </tr>\n",
       "    <tr>\n",
       "      <th>4</th>\n",
       "      <td>431534</td>\n",
       "      <td>1</td>\n",
       "      <td>5</td>\n",
       "      <td>4</td>\n",
       "      <td>15</td>\n",
       "      <td>28.0</td>\n",
       "      <td>196</td>\n",
       "      <td>1</td>\n",
       "      <td>1</td>\n",
       "      <td>195</td>\n",
       "      <td>...</td>\n",
       "      <td>Female</td>\n",
       "      <td>Alabama</td>\n",
       "      <td>31</td>\n",
       "      <td>2/17/2019</td>\n",
       "      <td>3</td>\n",
       "      <td>married</td>\n",
       "      <td>40423</td>\n",
       "      <td>South</td>\n",
       "      <td>High-activity</td>\n",
       "      <td>Young age</td>\n",
       "    </tr>\n",
       "  </tbody>\n",
       "</table>\n",
       "<p>5 rows × 30 columns</p>\n",
       "</div>"
      ],
      "text/plain": [
       "   order_id user_id  order_number  orders_day_of_week  order_hour_of_day  \\\n",
       "0   2539329       1             1                   2                  8   \n",
       "1   2398795       1             2                   3                  7   \n",
       "2    473747       1             3                   3                 12   \n",
       "3   2254736       1             4                   4                  7   \n",
       "4    431534       1             5                   4                 15   \n",
       "\n",
       "   days_since_prior_order  product_id  add_to_cart_order  reordered  \\\n",
       "0                     0.0         196                  1          0   \n",
       "1                    15.0         196                  1          1   \n",
       "2                    21.0         196                  1          1   \n",
       "3                    29.0         196                  1          1   \n",
       "4                    28.0         196                  1          1   \n",
       "\n",
       "   Unnamed: 0  ...  gender    state  age  date_joined  number_dependants  \\\n",
       "0         195  ...  Female  Alabama   31    2/17/2019                  3   \n",
       "1         195  ...  Female  Alabama   31    2/17/2019                  3   \n",
       "2         195  ...  Female  Alabama   31    2/17/2019                  3   \n",
       "3         195  ...  Female  Alabama   31    2/17/2019                  3   \n",
       "4         195  ...  Female  Alabama   31    2/17/2019                  3   \n",
       "\n",
       "  family_status  income region  exclusion_flag agecategory_flag  \n",
       "0       married   40423  South   High-activity        Young age  \n",
       "1       married   40423  South   High-activity        Young age  \n",
       "2       married   40423  South   High-activity        Young age  \n",
       "3       married   40423  South   High-activity        Young age  \n",
       "4       married   40423  South   High-activity        Young age  \n",
       "\n",
       "[5 rows x 30 columns]"
      ]
     },
     "execution_count": 38,
     "metadata": {},
     "output_type": "execute_result"
    }
   ],
   "source": [
    "# verifing the updted data set \n",
    "\n",
    "df_high_activity_custm.head(5)"
   ]
  },
  {
   "cell_type": "markdown",
   "id": "8b58b1df",
   "metadata": {},
   "source": [
    "### Among highest active customers, the  'middle age' age group has the highest activity in Instacart orders. "
   ]
  },
  {
   "cell_type": "code",
   "execution_count": 39,
   "id": "79c047b3",
   "metadata": {},
   "outputs": [],
   "source": [
    "# creating a crosstab on agecategory_flag and family_status\n",
    "\n",
    "crosstab_age_familystatus = pd.crosstab (df_high_activity_custm['agecategory_flag'], df_high_activity_custm['family_status'], dropna = False)"
   ]
  },
  {
   "cell_type": "code",
   "execution_count": 40,
   "id": "1c9d90f7",
   "metadata": {},
   "outputs": [
    {
     "data": {
      "text/html": [
       "<div>\n",
       "<style scoped>\n",
       "    .dataframe tbody tr th:only-of-type {\n",
       "        vertical-align: middle;\n",
       "    }\n",
       "\n",
       "    .dataframe tbody tr th {\n",
       "        vertical-align: top;\n",
       "    }\n",
       "\n",
       "    .dataframe thead th {\n",
       "        text-align: right;\n",
       "    }\n",
       "</style>\n",
       "<table border=\"1\" class=\"dataframe\">\n",
       "  <thead>\n",
       "    <tr style=\"text-align: right;\">\n",
       "      <th>family_status</th>\n",
       "      <th>divorced/widowed</th>\n",
       "      <th>living with parents and siblings</th>\n",
       "      <th>married</th>\n",
       "      <th>single</th>\n",
       "    </tr>\n",
       "    <tr>\n",
       "      <th>agecategory_flag</th>\n",
       "      <th></th>\n",
       "      <th></th>\n",
       "      <th></th>\n",
       "      <th></th>\n",
       "    </tr>\n",
       "  </thead>\n",
       "  <tbody>\n",
       "    <tr>\n",
       "      <th>Elderly age</th>\n",
       "      <td>2023913</td>\n",
       "      <td>0</td>\n",
       "      <td>6178833</td>\n",
       "      <td>0</td>\n",
       "    </tr>\n",
       "    <tr>\n",
       "      <th>Middle age</th>\n",
       "      <td>623848</td>\n",
       "      <td>0</td>\n",
       "      <td>9055095</td>\n",
       "      <td>2436325</td>\n",
       "    </tr>\n",
       "    <tr>\n",
       "      <th>Young age</th>\n",
       "      <td>0</td>\n",
       "      <td>1482611</td>\n",
       "      <td>6529093</td>\n",
       "      <td>2662946</td>\n",
       "    </tr>\n",
       "  </tbody>\n",
       "</table>\n",
       "</div>"
      ],
      "text/plain": [
       "family_status     divorced/widowed  living with parents and siblings  married  \\\n",
       "agecategory_flag                                                                \n",
       "Elderly age                2023913                                 0  6178833   \n",
       "Middle age                  623848                                 0  9055095   \n",
       "Young age                        0                           1482611  6529093   \n",
       "\n",
       "family_status      single  \n",
       "agecategory_flag           \n",
       "Elderly age             0  \n",
       "Middle age        2436325  \n",
       "Young age         2662946  "
      ]
     },
     "execution_count": 40,
     "metadata": {},
     "output_type": "execute_result"
    }
   ],
   "source": [
    "crosstab_age_familystatus "
   ]
  },
  {
   "cell_type": "markdown",
   "id": "59958a28",
   "metadata": {},
   "source": [
    "### According to the above it shows that  above middle age -married are the higest category for active orders"
   ]
  },
  {
   "cell_type": "code",
   "execution_count": 41,
   "id": "95ae7fa7",
   "metadata": {},
   "outputs": [
    {
     "data": {
      "image/png": "[encoded data removed]",
      "text/plain": [
       "<Figure size 640x480 with 1 Axes>"
      ]
     },
     "metadata": {},
     "output_type": "display_data"
    }
   ],
   "source": [
    "# Create a stacked bar chart\n",
    "\n",
    "bar_chart_age_familystatus = crosstab_age_familystatus.plot(kind='bar', stacked=True)"
   ]
  },
  {
   "cell_type": "code",
   "execution_count": 42,
   "id": "6c069b43",
   "metadata": {},
   "outputs": [
    {
     "data": {
      "text/html": [
       "<div>\n",
       "<style scoped>\n",
       "    .dataframe tbody tr th:only-of-type {\n",
       "        vertical-align: middle;\n",
       "    }\n",
       "\n",
       "    .dataframe tbody tr th {\n",
       "        vertical-align: top;\n",
       "    }\n",
       "\n",
       "    .dataframe thead tr th {\n",
       "        text-align: left;\n",
       "    }\n",
       "\n",
       "    .dataframe thead tr:last-of-type th {\n",
       "        text-align: right;\n",
       "    }\n",
       "</style>\n",
       "<table border=\"1\" class=\"dataframe\">\n",
       "  <thead>\n",
       "    <tr>\n",
       "      <th></th>\n",
       "      <th colspan=\"3\" halign=\"left\">prices</th>\n",
       "    </tr>\n",
       "    <tr>\n",
       "      <th></th>\n",
       "      <th>mean</th>\n",
       "      <th>min</th>\n",
       "      <th>max</th>\n",
       "    </tr>\n",
       "    <tr>\n",
       "      <th>agecategory_flag</th>\n",
       "      <th></th>\n",
       "      <th></th>\n",
       "      <th></th>\n",
       "    </tr>\n",
       "  </thead>\n",
       "  <tbody>\n",
       "    <tr>\n",
       "      <th>Elderly age</th>\n",
       "      <td>11.758945</td>\n",
       "      <td>1.0</td>\n",
       "      <td>99999.0</td>\n",
       "    </tr>\n",
       "    <tr>\n",
       "      <th>Middle age</th>\n",
       "      <td>11.945818</td>\n",
       "      <td>1.0</td>\n",
       "      <td>99999.0</td>\n",
       "    </tr>\n",
       "    <tr>\n",
       "      <th>Young age</th>\n",
       "      <td>12.056513</td>\n",
       "      <td>1.0</td>\n",
       "      <td>99999.0</td>\n",
       "    </tr>\n",
       "  </tbody>\n",
       "</table>\n",
       "</div>"
      ],
      "text/plain": [
       "                     prices              \n",
       "                       mean  min      max\n",
       "agecategory_flag                         \n",
       "Elderly age       11.758945  1.0  99999.0\n",
       "Middle age        11.945818  1.0  99999.0\n",
       "Young age         12.056513  1.0  99999.0"
      ]
     },
     "execution_count": 42,
     "metadata": {},
     "output_type": "execute_result"
    }
   ],
   "source": [
    "# Age category usage frequency aggregation\n",
    "\n",
    "df_high_activity_custm.groupby('agecategory_flag').agg({'prices': ['mean', 'min', 'max']})"
   ]
  },
  {
   "cell_type": "markdown",
   "id": "8a96cc79",
   "metadata": {},
   "source": [
    "#### Average price amount of payment for order is around 12  for all the age categories"
   ]
  },
  {
   "cell_type": "markdown",
   "id": "5130036c",
   "metadata": {},
   "source": [
    "# Creating profile based on Income"
   ]
  },
  {
   "cell_type": "code",
   "execution_count": 43,
   "id": "efa61f38",
   "metadata": {},
   "outputs": [
    {
     "data": {
      "text/plain": [
       "count    3.099266e+07\n",
       "mean     9.967322e+04\n",
       "std      4.313928e+04\n",
       "min      2.590300e+04\n",
       "25%      6.728900e+04\n",
       "50%      9.676500e+04\n",
       "75%      1.281010e+05\n",
       "max      5.939010e+05\n",
       "Name: income, dtype: float64"
      ]
     },
     "execution_count": 43,
     "metadata": {},
     "output_type": "execute_result"
    }
   ],
   "source": [
    "# Cheaking for data\n",
    "\n",
    "df_high_activity_custm['income'].describe()"
   ]
  },
  {
   "cell_type": "markdown",
   "id": "756a1445",
   "metadata": {},
   "source": [
    "### The minimum income is 25,900, and the maximum is 593,900. \n",
    "### Therefore the grouping can be done: low = <70,000, middle-class =70,000-130,000  and high = >130,000"
   ]
  },
  {
   "cell_type": "code",
   "execution_count": 44,
   "id": "6e8a315a",
   "metadata": {},
   "outputs": [],
   "source": [
    "# Creating conditions for each ge groups \n",
    "\n",
    "df_high_activity_custm.loc[df_high_activity_custm['income']< 70000, 'incomecategory_flag'] = 'Low'"
   ]
  },
  {
   "cell_type": "code",
   "execution_count": 45,
   "id": "34c4bc80",
   "metadata": {},
   "outputs": [],
   "source": [
    "df_high_activity_custm.loc[(df_high_activity_custm['income']>= 70000) & (df_high_activity_custm['income']< 130000), 'incomecategory_flag'] = 'Middle'"
   ]
  },
  {
   "cell_type": "code",
   "execution_count": 46,
   "id": "0274b1c0",
   "metadata": {},
   "outputs": [],
   "source": [
    "#df_high_activity_custm.loc[(df_high_activity_custm['income']>= 100000) & (df_high_activity_custm['income']< 130000), 'incomecategory_flag'] = 'Upper-middle'"
   ]
  },
  {
   "cell_type": "code",
   "execution_count": 47,
   "id": "441afd40",
   "metadata": {},
   "outputs": [],
   "source": [
    "df_high_activity_custm.loc[df_high_activity_custm['income']>= 130000, 'incomecategory_flag'] = 'High'"
   ]
  },
  {
   "cell_type": "code",
   "execution_count": 48,
   "id": "9fe13a0c",
   "metadata": {},
   "outputs": [
    {
     "data": {
      "text/plain": [
       "Middle    15056002\n",
       "Low        8528821\n",
       "High       7407841\n",
       "Name: incomecategory_flag, dtype: int64"
      ]
     },
     "execution_count": 48,
     "metadata": {},
     "output_type": "execute_result"
    }
   ],
   "source": [
    "# verifing the updted data set \n",
    "\n",
    "df_high_activity_custm['incomecategory_flag'].value_counts(dropna = False)"
   ]
  },
  {
   "cell_type": "code",
   "execution_count": 49,
   "id": "e128d67f",
   "metadata": {},
   "outputs": [
    {
     "data": {
      "text/html": [
       "<div>\n",
       "<style scoped>\n",
       "    .dataframe tbody tr th:only-of-type {\n",
       "        vertical-align: middle;\n",
       "    }\n",
       "\n",
       "    .dataframe tbody tr th {\n",
       "        vertical-align: top;\n",
       "    }\n",
       "\n",
       "    .dataframe thead th {\n",
       "        text-align: right;\n",
       "    }\n",
       "</style>\n",
       "<table border=\"1\" class=\"dataframe\">\n",
       "  <thead>\n",
       "    <tr style=\"text-align: right;\">\n",
       "      <th></th>\n",
       "      <th>order_id</th>\n",
       "      <th>user_id</th>\n",
       "      <th>order_number</th>\n",
       "      <th>orders_day_of_week</th>\n",
       "      <th>order_hour_of_day</th>\n",
       "      <th>days_since_prior_order</th>\n",
       "      <th>product_id</th>\n",
       "      <th>add_to_cart_order</th>\n",
       "      <th>reordered</th>\n",
       "      <th>Unnamed: 0</th>\n",
       "      <th>...</th>\n",
       "      <th>state</th>\n",
       "      <th>age</th>\n",
       "      <th>date_joined</th>\n",
       "      <th>number_dependants</th>\n",
       "      <th>family_status</th>\n",
       "      <th>income</th>\n",
       "      <th>region</th>\n",
       "      <th>exclusion_flag</th>\n",
       "      <th>agecategory_flag</th>\n",
       "      <th>incomecategory_flag</th>\n",
       "    </tr>\n",
       "  </thead>\n",
       "  <tbody>\n",
       "    <tr>\n",
       "      <th>0</th>\n",
       "      <td>2539329</td>\n",
       "      <td>1</td>\n",
       "      <td>1</td>\n",
       "      <td>2</td>\n",
       "      <td>8</td>\n",
       "      <td>0.0</td>\n",
       "      <td>196</td>\n",
       "      <td>1</td>\n",
       "      <td>0</td>\n",
       "      <td>195</td>\n",
       "      <td>...</td>\n",
       "      <td>Alabama</td>\n",
       "      <td>31</td>\n",
       "      <td>2/17/2019</td>\n",
       "      <td>3</td>\n",
       "      <td>married</td>\n",
       "      <td>40423</td>\n",
       "      <td>South</td>\n",
       "      <td>High-activity</td>\n",
       "      <td>Young age</td>\n",
       "      <td>Low</td>\n",
       "    </tr>\n",
       "    <tr>\n",
       "      <th>1</th>\n",
       "      <td>2398795</td>\n",
       "      <td>1</td>\n",
       "      <td>2</td>\n",
       "      <td>3</td>\n",
       "      <td>7</td>\n",
       "      <td>15.0</td>\n",
       "      <td>196</td>\n",
       "      <td>1</td>\n",
       "      <td>1</td>\n",
       "      <td>195</td>\n",
       "      <td>...</td>\n",
       "      <td>Alabama</td>\n",
       "      <td>31</td>\n",
       "      <td>2/17/2019</td>\n",
       "      <td>3</td>\n",
       "      <td>married</td>\n",
       "      <td>40423</td>\n",
       "      <td>South</td>\n",
       "      <td>High-activity</td>\n",
       "      <td>Young age</td>\n",
       "      <td>Low</td>\n",
       "    </tr>\n",
       "    <tr>\n",
       "      <th>2</th>\n",
       "      <td>473747</td>\n",
       "      <td>1</td>\n",
       "      <td>3</td>\n",
       "      <td>3</td>\n",
       "      <td>12</td>\n",
       "      <td>21.0</td>\n",
       "      <td>196</td>\n",
       "      <td>1</td>\n",
       "      <td>1</td>\n",
       "      <td>195</td>\n",
       "      <td>...</td>\n",
       "      <td>Alabama</td>\n",
       "      <td>31</td>\n",
       "      <td>2/17/2019</td>\n",
       "      <td>3</td>\n",
       "      <td>married</td>\n",
       "      <td>40423</td>\n",
       "      <td>South</td>\n",
       "      <td>High-activity</td>\n",
       "      <td>Young age</td>\n",
       "      <td>Low</td>\n",
       "    </tr>\n",
       "  </tbody>\n",
       "</table>\n",
       "<p>3 rows × 31 columns</p>\n",
       "</div>"
      ],
      "text/plain": [
       "   order_id user_id  order_number  orders_day_of_week  order_hour_of_day  \\\n",
       "0   2539329       1             1                   2                  8   \n",
       "1   2398795       1             2                   3                  7   \n",
       "2    473747       1             3                   3                 12   \n",
       "\n",
       "   days_since_prior_order  product_id  add_to_cart_order  reordered  \\\n",
       "0                     0.0         196                  1          0   \n",
       "1                    15.0         196                  1          1   \n",
       "2                    21.0         196                  1          1   \n",
       "\n",
       "   Unnamed: 0  ...    state  age  date_joined  number_dependants  \\\n",
       "0         195  ...  Alabama   31    2/17/2019                  3   \n",
       "1         195  ...  Alabama   31    2/17/2019                  3   \n",
       "2         195  ...  Alabama   31    2/17/2019                  3   \n",
       "\n",
       "   family_status income  region exclusion_flag  agecategory_flag  \\\n",
       "0        married  40423   South  High-activity         Young age   \n",
       "1        married  40423   South  High-activity         Young age   \n",
       "2        married  40423   South  High-activity         Young age   \n",
       "\n",
       "  incomecategory_flag  \n",
       "0                 Low  \n",
       "1                 Low  \n",
       "2                 Low  \n",
       "\n",
       "[3 rows x 31 columns]"
      ]
     },
     "execution_count": 49,
     "metadata": {},
     "output_type": "execute_result"
    }
   ],
   "source": [
    "df_high_activity_custm.head(3)"
   ]
  },
  {
   "cell_type": "markdown",
   "id": "bb09a198",
   "metadata": {},
   "source": [
    "### Low income customers are the highest category of the customers."
   ]
  },
  {
   "cell_type": "code",
   "execution_count": 50,
   "id": "0b505004",
   "metadata": {},
   "outputs": [],
   "source": [
    "# Creating a crosstab on incomecategory_flag and region \n",
    "\n",
    "crosstab__region_income = pd.crosstab (df_high_activity_custm['region'], df_high_activity_custm['incomecategory_flag'], dropna = False)"
   ]
  },
  {
   "cell_type": "code",
   "execution_count": 51,
   "id": "9959d3d2",
   "metadata": {},
   "outputs": [
    {
     "data": {
      "text/html": [
       "<div>\n",
       "<style scoped>\n",
       "    .dataframe tbody tr th:only-of-type {\n",
       "        vertical-align: middle;\n",
       "    }\n",
       "\n",
       "    .dataframe tbody tr th {\n",
       "        vertical-align: top;\n",
       "    }\n",
       "\n",
       "    .dataframe thead th {\n",
       "        text-align: right;\n",
       "    }\n",
       "</style>\n",
       "<table border=\"1\" class=\"dataframe\">\n",
       "  <thead>\n",
       "    <tr style=\"text-align: right;\">\n",
       "      <th>incomecategory_flag</th>\n",
       "      <th>High</th>\n",
       "      <th>Low</th>\n",
       "      <th>Middle</th>\n",
       "    </tr>\n",
       "    <tr>\n",
       "      <th>region</th>\n",
       "      <th></th>\n",
       "      <th></th>\n",
       "      <th></th>\n",
       "    </tr>\n",
       "  </thead>\n",
       "  <tbody>\n",
       "    <tr>\n",
       "      <th>Midwest</th>\n",
       "      <td>1764469</td>\n",
       "      <td>1976099</td>\n",
       "      <td>3527139</td>\n",
       "    </tr>\n",
       "    <tr>\n",
       "      <th>Northeast</th>\n",
       "      <td>1310208</td>\n",
       "      <td>1488246</td>\n",
       "      <td>2671614</td>\n",
       "    </tr>\n",
       "    <tr>\n",
       "      <th>South</th>\n",
       "      <td>2444798</td>\n",
       "      <td>2852440</td>\n",
       "      <td>5023224</td>\n",
       "    </tr>\n",
       "    <tr>\n",
       "      <th>West</th>\n",
       "      <td>1888366</td>\n",
       "      <td>2212036</td>\n",
       "      <td>3834025</td>\n",
       "    </tr>\n",
       "  </tbody>\n",
       "</table>\n",
       "</div>"
      ],
      "text/plain": [
       "incomecategory_flag     High      Low   Middle\n",
       "region                                        \n",
       "Midwest              1764469  1976099  3527139\n",
       "Northeast            1310208  1488246  2671614\n",
       "South                2444798  2852440  5023224\n",
       "West                 1888366  2212036  3834025"
      ]
     },
     "execution_count": 51,
     "metadata": {},
     "output_type": "execute_result"
    }
   ],
   "source": [
    "crosstab__region_income"
   ]
  },
  {
   "cell_type": "code",
   "execution_count": 52,
   "id": "d74fc3d8",
   "metadata": {},
   "outputs": [
    {
     "data": {
      "image/png": "[encoded data removed]",
      "text/plain": [
       "<Figure size 640x480 with 1 Axes>"
      ]
     },
     "metadata": {},
     "output_type": "display_data"
    }
   ],
   "source": [
    "# Create a stacked bar chart\n",
    "\n",
    "bar_chart_region_income  =crosstab__region_income.plot(kind='bar', stacked=True)"
   ]
  },
  {
   "cell_type": "markdown",
   "id": "c0ab3a13",
   "metadata": {},
   "source": [
    "#### Highly active customers are based on the south region and among the low income cusomer category shows high activity "
   ]
  },
  {
   "cell_type": "code",
   "execution_count": 53,
   "id": "f5fc84a2",
   "metadata": {},
   "outputs": [
    {
     "data": {
      "text/html": [
       "<div>\n",
       "<style scoped>\n",
       "    .dataframe tbody tr th:only-of-type {\n",
       "        vertical-align: middle;\n",
       "    }\n",
       "\n",
       "    .dataframe tbody tr th {\n",
       "        vertical-align: top;\n",
       "    }\n",
       "\n",
       "    .dataframe thead tr th {\n",
       "        text-align: left;\n",
       "    }\n",
       "\n",
       "    .dataframe thead tr:last-of-type th {\n",
       "        text-align: right;\n",
       "    }\n",
       "</style>\n",
       "<table border=\"1\" class=\"dataframe\">\n",
       "  <thead>\n",
       "    <tr>\n",
       "      <th></th>\n",
       "      <th colspan=\"3\" halign=\"left\">prices</th>\n",
       "    </tr>\n",
       "    <tr>\n",
       "      <th></th>\n",
       "      <th>mean</th>\n",
       "      <th>min</th>\n",
       "      <th>max</th>\n",
       "    </tr>\n",
       "    <tr>\n",
       "      <th>incomecategory_flag</th>\n",
       "      <th></th>\n",
       "      <th></th>\n",
       "      <th></th>\n",
       "    </tr>\n",
       "  </thead>\n",
       "  <tbody>\n",
       "    <tr>\n",
       "      <th>High</th>\n",
       "      <td>22.380069</td>\n",
       "      <td>1.0</td>\n",
       "      <td>99999.0</td>\n",
       "    </tr>\n",
       "    <tr>\n",
       "      <th>Low</th>\n",
       "      <td>7.372050</td>\n",
       "      <td>1.0</td>\n",
       "      <td>14900.0</td>\n",
       "    </tr>\n",
       "    <tr>\n",
       "      <th>Middle</th>\n",
       "      <td>9.379555</td>\n",
       "      <td>1.0</td>\n",
       "      <td>99999.0</td>\n",
       "    </tr>\n",
       "  </tbody>\n",
       "</table>\n",
       "</div>"
      ],
      "text/plain": [
       "                        prices              \n",
       "                          mean  min      max\n",
       "incomecategory_flag                         \n",
       "High                 22.380069  1.0  99999.0\n",
       "Low                   7.372050  1.0  14900.0\n",
       "Middle                9.379555  1.0  99999.0"
      ]
     },
     "execution_count": 53,
     "metadata": {},
     "output_type": "execute_result"
    }
   ],
   "source": [
    "#income category expenditure aggregation\n",
    "\n",
    "df_high_activity_custm.groupby('incomecategory_flag').agg({'prices' : ['mean', 'min', 'max']})"
   ]
  },
  {
   "cell_type": "markdown",
   "id": "efc76858",
   "metadata": {},
   "source": [
    "#### According to so far data obtained average expenditure fro highly active customer category is Low income customers and is about 8"
   ]
  },
  {
   "cell_type": "code",
   "execution_count": 54,
   "id": "79d8d84a",
   "metadata": {},
   "outputs": [
    {
     "data": {
      "text/html": [
       "<div>\n",
       "<style scoped>\n",
       "    .dataframe tbody tr th:only-of-type {\n",
       "        vertical-align: middle;\n",
       "    }\n",
       "\n",
       "    .dataframe tbody tr th {\n",
       "        vertical-align: top;\n",
       "    }\n",
       "\n",
       "    .dataframe thead tr th {\n",
       "        text-align: left;\n",
       "    }\n",
       "\n",
       "    .dataframe thead tr:last-of-type th {\n",
       "        text-align: right;\n",
       "    }\n",
       "</style>\n",
       "<table border=\"1\" class=\"dataframe\">\n",
       "  <thead>\n",
       "    <tr>\n",
       "      <th></th>\n",
       "      <th colspan=\"3\" halign=\"left\">add_to_cart_order</th>\n",
       "    </tr>\n",
       "    <tr>\n",
       "      <th></th>\n",
       "      <th>mean</th>\n",
       "      <th>min</th>\n",
       "      <th>max</th>\n",
       "    </tr>\n",
       "    <tr>\n",
       "      <th>incomecategory_flag</th>\n",
       "      <th></th>\n",
       "      <th></th>\n",
       "      <th></th>\n",
       "    </tr>\n",
       "  </thead>\n",
       "  <tbody>\n",
       "    <tr>\n",
       "      <th>High</th>\n",
       "      <td>8.479243</td>\n",
       "      <td>1</td>\n",
       "      <td>121</td>\n",
       "    </tr>\n",
       "    <tr>\n",
       "      <th>Low</th>\n",
       "      <td>7.964520</td>\n",
       "      <td>1</td>\n",
       "      <td>137</td>\n",
       "    </tr>\n",
       "    <tr>\n",
       "      <th>Middle</th>\n",
       "      <td>8.528757</td>\n",
       "      <td>1</td>\n",
       "      <td>145</td>\n",
       "    </tr>\n",
       "  </tbody>\n",
       "</table>\n",
       "</div>"
      ],
      "text/plain": [
       "                    add_to_cart_order         \n",
       "                                 mean min  max\n",
       "incomecategory_flag                           \n",
       "High                         8.479243   1  121\n",
       "Low                          7.964520   1  137\n",
       "Middle                       8.528757   1  145"
      ]
     },
     "execution_count": 54,
     "metadata": {},
     "output_type": "execute_result"
    }
   ],
   "source": [
    "df_high_activity_custm.groupby('incomecategory_flag').agg({'add_to_cart_order' : ['mean', 'min', 'max']})"
   ]
  },
  {
   "cell_type": "code",
   "execution_count": null,
   "id": "b3b0ff90",
   "metadata": {},
   "outputs": [],
   "source": []
  },
  {
   "cell_type": "markdown",
   "id": "86df1d1c",
   "metadata": {},
   "source": [
    "# Creating profile based on departments and certain goods "
   ]
  },
  {
   "cell_type": "code",
   "execution_count": 55,
   "id": "aff636a2",
   "metadata": {},
   "outputs": [],
   "source": [
    "# Code Explain ask ?"
   ]
  },
  {
   "cell_type": "code",
   "execution_count": 56,
   "id": "9f159d3a",
   "metadata": {},
   "outputs": [],
   "source": [
    "# create dictionary \n",
    "\n",
    "dept_list = dict(zip(df_dept['department_id'], df_dept['department']))"
   ]
  },
  {
   "cell_type": "code",
   "execution_count": 57,
   "id": "ee6ea5e7",
   "metadata": {},
   "outputs": [
    {
     "data": {
      "text/plain": [
       "{1: 'frozen',\n",
       " 2: 'other',\n",
       " 3: 'bakery',\n",
       " 4: 'produce',\n",
       " 5: 'alcohol',\n",
       " 6: 'international',\n",
       " 7: 'beverages',\n",
       " 8: 'pets',\n",
       " 9: 'dry goods pasta',\n",
       " 10: 'bulk',\n",
       " 11: 'personal care',\n",
       " 12: 'meat seafood',\n",
       " 13: 'pantry',\n",
       " 14: 'breakfast',\n",
       " 15: 'canned goods',\n",
       " 16: 'dairy eggs',\n",
       " 17: 'household',\n",
       " 18: 'babies',\n",
       " 19: 'snacks',\n",
       " 20: 'deli',\n",
       " 21: 'missing'}"
      ]
     },
     "execution_count": 57,
     "metadata": {},
     "output_type": "execute_result"
    }
   ],
   "source": [
    "dept_list"
   ]
  },
  {
   "cell_type": "code",
   "execution_count": 58,
   "id": "15423183",
   "metadata": {},
   "outputs": [],
   "source": [
    "df_high_activity_custm['department'] = df_high_activity_custm['department_id'].map(dept_list)"
   ]
  },
  {
   "cell_type": "code",
   "execution_count": 59,
   "id": "8972aec8",
   "metadata": {},
   "outputs": [
    {
     "data": {
      "text/plain": [
       "produce            9079276\n",
       "dairy eggs         5191828\n",
       "snacks             2766406\n",
       "beverages          2571934\n",
       "frozen             2123342\n",
       "pantry             1782903\n",
       "bakery             1125026\n",
       "canned goods       1012074\n",
       "deli               1003834\n",
       "dry goods pasta     822136\n",
       "household           699858\n",
       "breakfast           678095\n",
       "meat seafood        674785\n",
       "personal care       424415\n",
       "babies              410392\n",
       "international       255991\n",
       "alcohol             144674\n",
       "pets                 93065\n",
       "missing              64768\n",
       "other                34411\n",
       "bulk                 33451\n",
       "Name: department, dtype: int64"
      ]
     },
     "execution_count": 59,
     "metadata": {},
     "output_type": "execute_result"
    }
   ],
   "source": [
    "# Cheacking for data \n",
    "\n",
    "df_high_activity_custm['department'].value_counts(dropna = False)"
   ]
  },
  {
   "cell_type": "code",
   "execution_count": 60,
   "id": "bc945457",
   "metadata": {},
   "outputs": [
    {
     "data": {
      "image/png": "[encoded data removed]",
      "text/plain": [
       "<Figure size 1400x800 with 1 Axes>"
      ]
     },
     "metadata": {},
     "output_type": "display_data"
    }
   ],
   "source": [
    "bar_products=df_high_activity_custm['department'].value_counts().plot(kind='bar',figsize=(14,8),title=\"Distribution of product sold out\")"
   ]
  },
  {
   "cell_type": "code",
   "execution_count": null,
   "id": "cccee379",
   "metadata": {},
   "outputs": [],
   "source": []
  },
  {
   "cell_type": "code",
   "execution_count": 61,
   "id": "5c1a850e",
   "metadata": {},
   "outputs": [],
   "source": [
    "# Customers based on behavioral Market\n",
    "\n",
    "# Create petavailable_flag column\n",
    "\n",
    "df_high_activity_custm.loc[df_high_activity_custm['department'] !='pets', 'petavailable_flag'] = 'No'\n",
    "df_high_activity_custm.loc[df_high_activity_custm['department'] =='pets', 'petavailable_flag'] = 'Yes'"
   ]
  },
  {
   "cell_type": "code",
   "execution_count": 62,
   "id": "bb10bfc4",
   "metadata": {},
   "outputs": [
    {
     "data": {
      "text/plain": [
       "No     30899599\n",
       "Yes       93065\n",
       "Name: petavailable_flag, dtype: int64"
      ]
     },
     "execution_count": 62,
     "metadata": {},
     "output_type": "execute_result"
    }
   ],
   "source": [
    "df_high_activity_custm['petavailable_flag'].value_counts(dropna = False)"
   ]
  },
  {
   "cell_type": "code",
   "execution_count": 63,
   "id": "2c39a1f7",
   "metadata": {},
   "outputs": [
    {
     "data": {
      "text/html": [
       "<div>\n",
       "<style scoped>\n",
       "    .dataframe tbody tr th:only-of-type {\n",
       "        vertical-align: middle;\n",
       "    }\n",
       "\n",
       "    .dataframe tbody tr th {\n",
       "        vertical-align: top;\n",
       "    }\n",
       "\n",
       "    .dataframe thead th {\n",
       "        text-align: right;\n",
       "    }\n",
       "</style>\n",
       "<table border=\"1\" class=\"dataframe\">\n",
       "  <thead>\n",
       "    <tr style=\"text-align: right;\">\n",
       "      <th></th>\n",
       "      <th>order_id</th>\n",
       "      <th>user_id</th>\n",
       "      <th>order_number</th>\n",
       "      <th>orders_day_of_week</th>\n",
       "      <th>order_hour_of_day</th>\n",
       "      <th>days_since_prior_order</th>\n",
       "      <th>product_id</th>\n",
       "      <th>add_to_cart_order</th>\n",
       "      <th>reordered</th>\n",
       "      <th>Unnamed: 0</th>\n",
       "      <th>...</th>\n",
       "      <th>date_joined</th>\n",
       "      <th>number_dependants</th>\n",
       "      <th>family_status</th>\n",
       "      <th>income</th>\n",
       "      <th>region</th>\n",
       "      <th>exclusion_flag</th>\n",
       "      <th>agecategory_flag</th>\n",
       "      <th>incomecategory_flag</th>\n",
       "      <th>department</th>\n",
       "      <th>petavailable_flag</th>\n",
       "    </tr>\n",
       "  </thead>\n",
       "  <tbody>\n",
       "    <tr>\n",
       "      <th>0</th>\n",
       "      <td>2539329</td>\n",
       "      <td>1</td>\n",
       "      <td>1</td>\n",
       "      <td>2</td>\n",
       "      <td>8</td>\n",
       "      <td>0.0</td>\n",
       "      <td>196</td>\n",
       "      <td>1</td>\n",
       "      <td>0</td>\n",
       "      <td>195</td>\n",
       "      <td>...</td>\n",
       "      <td>2/17/2019</td>\n",
       "      <td>3</td>\n",
       "      <td>married</td>\n",
       "      <td>40423</td>\n",
       "      <td>South</td>\n",
       "      <td>High-activity</td>\n",
       "      <td>Young age</td>\n",
       "      <td>Low</td>\n",
       "      <td>beverages</td>\n",
       "      <td>No</td>\n",
       "    </tr>\n",
       "    <tr>\n",
       "      <th>1</th>\n",
       "      <td>2398795</td>\n",
       "      <td>1</td>\n",
       "      <td>2</td>\n",
       "      <td>3</td>\n",
       "      <td>7</td>\n",
       "      <td>15.0</td>\n",
       "      <td>196</td>\n",
       "      <td>1</td>\n",
       "      <td>1</td>\n",
       "      <td>195</td>\n",
       "      <td>...</td>\n",
       "      <td>2/17/2019</td>\n",
       "      <td>3</td>\n",
       "      <td>married</td>\n",
       "      <td>40423</td>\n",
       "      <td>South</td>\n",
       "      <td>High-activity</td>\n",
       "      <td>Young age</td>\n",
       "      <td>Low</td>\n",
       "      <td>beverages</td>\n",
       "      <td>No</td>\n",
       "    </tr>\n",
       "    <tr>\n",
       "      <th>2</th>\n",
       "      <td>473747</td>\n",
       "      <td>1</td>\n",
       "      <td>3</td>\n",
       "      <td>3</td>\n",
       "      <td>12</td>\n",
       "      <td>21.0</td>\n",
       "      <td>196</td>\n",
       "      <td>1</td>\n",
       "      <td>1</td>\n",
       "      <td>195</td>\n",
       "      <td>...</td>\n",
       "      <td>2/17/2019</td>\n",
       "      <td>3</td>\n",
       "      <td>married</td>\n",
       "      <td>40423</td>\n",
       "      <td>South</td>\n",
       "      <td>High-activity</td>\n",
       "      <td>Young age</td>\n",
       "      <td>Low</td>\n",
       "      <td>beverages</td>\n",
       "      <td>No</td>\n",
       "    </tr>\n",
       "  </tbody>\n",
       "</table>\n",
       "<p>3 rows × 33 columns</p>\n",
       "</div>"
      ],
      "text/plain": [
       "   order_id user_id  order_number  orders_day_of_week  order_hour_of_day  \\\n",
       "0   2539329       1             1                   2                  8   \n",
       "1   2398795       1             2                   3                  7   \n",
       "2    473747       1             3                   3                 12   \n",
       "\n",
       "   days_since_prior_order  product_id  add_to_cart_order  reordered  \\\n",
       "0                     0.0         196                  1          0   \n",
       "1                    15.0         196                  1          1   \n",
       "2                    21.0         196                  1          1   \n",
       "\n",
       "   Unnamed: 0  ... date_joined  number_dependants  family_status  income  \\\n",
       "0         195  ...   2/17/2019                  3        married   40423   \n",
       "1         195  ...   2/17/2019                  3        married   40423   \n",
       "2         195  ...   2/17/2019                  3        married   40423   \n",
       "\n",
       "   region exclusion_flag  agecategory_flag incomecategory_flag  department  \\\n",
       "0   South  High-activity         Young age                 Low   beverages   \n",
       "1   South  High-activity         Young age                 Low   beverages   \n",
       "2   South  High-activity         Young age                 Low   beverages   \n",
       "\n",
       "  petavailable_flag  \n",
       "0                No  \n",
       "1                No  \n",
       "2                No  \n",
       "\n",
       "[3 rows x 33 columns]"
      ]
     },
     "execution_count": 63,
     "metadata": {},
     "output_type": "execute_result"
    }
   ],
   "source": [
    "df_high_activity_custm.head(3)"
   ]
  },
  {
   "cell_type": "code",
   "execution_count": 64,
   "id": "6135a29c",
   "metadata": {},
   "outputs": [],
   "source": [
    "# crosstab on petavailable_flag and regions\n",
    "\n",
    "crosstab_pets_regions = pd.crosstab (df_high_activity_custm['region'], df_high_activity_custm['petavailable_flag'], dropna = False)"
   ]
  },
  {
   "cell_type": "code",
   "execution_count": 65,
   "id": "c5115cd5",
   "metadata": {},
   "outputs": [
    {
     "data": {
      "text/html": [
       "<div>\n",
       "<style scoped>\n",
       "    .dataframe tbody tr th:only-of-type {\n",
       "        vertical-align: middle;\n",
       "    }\n",
       "\n",
       "    .dataframe tbody tr th {\n",
       "        vertical-align: top;\n",
       "    }\n",
       "\n",
       "    .dataframe thead th {\n",
       "        text-align: right;\n",
       "    }\n",
       "</style>\n",
       "<table border=\"1\" class=\"dataframe\">\n",
       "  <thead>\n",
       "    <tr style=\"text-align: right;\">\n",
       "      <th>petavailable_flag</th>\n",
       "      <th>No</th>\n",
       "      <th>Yes</th>\n",
       "    </tr>\n",
       "    <tr>\n",
       "      <th>region</th>\n",
       "      <th></th>\n",
       "      <th></th>\n",
       "    </tr>\n",
       "  </thead>\n",
       "  <tbody>\n",
       "    <tr>\n",
       "      <th>Midwest</th>\n",
       "      <td>7246349</td>\n",
       "      <td>21358</td>\n",
       "    </tr>\n",
       "    <tr>\n",
       "      <th>Northeast</th>\n",
       "      <td>5452334</td>\n",
       "      <td>17734</td>\n",
       "    </tr>\n",
       "    <tr>\n",
       "      <th>South</th>\n",
       "      <td>10290550</td>\n",
       "      <td>29912</td>\n",
       "    </tr>\n",
       "    <tr>\n",
       "      <th>West</th>\n",
       "      <td>7910366</td>\n",
       "      <td>24061</td>\n",
       "    </tr>\n",
       "  </tbody>\n",
       "</table>\n",
       "</div>"
      ],
      "text/plain": [
       "petavailable_flag        No    Yes\n",
       "region                            \n",
       "Midwest             7246349  21358\n",
       "Northeast           5452334  17734\n",
       "South              10290550  29912\n",
       "West                7910366  24061"
      ]
     },
     "execution_count": 65,
     "metadata": {},
     "output_type": "execute_result"
    }
   ],
   "source": [
    "crosstab_pets_regions"
   ]
  },
  {
   "cell_type": "code",
   "execution_count": 66,
   "id": "ef54fa11",
   "metadata": {},
   "outputs": [
    {
     "data": {
      "image/png": "[encoded data removed]",
      "text/plain": [
       "<Figure size 640x480 with 1 Axes>"
      ]
     },
     "metadata": {},
     "output_type": "display_data"
    }
   ],
   "source": [
    "# Create a grouped bar chart\n",
    "\n",
    "bar_pet_chart = crosstab_pets_regions.plot(kind='bar')"
   ]
  },
  {
   "cell_type": "code",
   "execution_count": 67,
   "id": "1709fb2d",
   "metadata": {},
   "outputs": [
    {
     "data": {
      "text/plain": [
       "<AxesSubplot:xlabel='region'>"
      ]
     },
     "execution_count": 67,
     "metadata": {},
     "output_type": "execute_result"
    },
    {
     "data": {
      "image/png": "[encoded data removed]",
      "text/plain": [
       "<Figure size 1000x5000 with 1 Axes>"
      ]
     },
     "metadata": {},
     "output_type": "display_data"
    }
   ],
   "source": [
    "# resizing the chart to visible clearly \n",
    "\n",
    "crosstab_pets_regions.plot.bar(figsize = (10, 50))"
   ]
  },
  {
   "cell_type": "code",
   "execution_count": 68,
   "id": "5968c3e5",
   "metadata": {},
   "outputs": [
    {
     "data": {
      "text/plain": [
       "0      208208\n",
       "1      109704\n",
       "2       65740\n",
       "3       48831\n",
       "4       50802\n",
       "5       84508\n",
       "6      281282\n",
       "7      864060\n",
       "8     1660870\n",
       "9     2365985\n",
       "10    2652281\n",
       "11    2617231\n",
       "12    2497952\n",
       "13    2541503\n",
       "14    2570222\n",
       "15    2538243\n",
       "16    2415842\n",
       "17    1984054\n",
       "18    1552536\n",
       "19    1194898\n",
       "20     931727\n",
       "21     763806\n",
       "22     607549\n",
       "23     384830\n",
       "Name: order_hour_of_day, dtype: int64"
      ]
     },
     "execution_count": 68,
     "metadata": {},
     "output_type": "execute_result"
    }
   ],
   "source": [
    "# profiling according to order hour \n",
    "\n",
    "df_high_activity_custm['order_hour_of_day'].value_counts(dropna = False).sort_index()"
   ]
  },
  {
   "cell_type": "code",
   "execution_count": 69,
   "id": "49c54b44",
   "metadata": {},
   "outputs": [],
   "source": [
    "# Creating timeperiod_flag for monitor the customer base on order_hour_of_day\n",
    "\n",
    "df_high_activity_custm.loc[df_high_activity_custm['order_hour_of_day'] <=5 , 'timeperiod_flag'] = 'Morning time customer'"
   ]
  },
  {
   "cell_type": "code",
   "execution_count": 70,
   "id": "f06be264",
   "metadata": {},
   "outputs": [],
   "source": [
    "df_high_activity_custm.loc[(df_high_activity_custm['order_hour_of_day']>= 6) & (df_high_activity_custm['order_hour_of_day']<= 19), 'timeperiod_flag'] = 'Regular day Customer'"
   ]
  },
  {
   "cell_type": "code",
   "execution_count": 71,
   "id": "cbe26275",
   "metadata": {},
   "outputs": [],
   "source": [
    "df_high_activity_custm.loc[(df_high_activity_custm['order_hour_of_day']>= 20) , 'timeperiod_flag'] = 'Night time customer'"
   ]
  },
  {
   "cell_type": "code",
   "execution_count": 72,
   "id": "b912e05b",
   "metadata": {},
   "outputs": [
    {
     "data": {
      "text/plain": [
       "Regular day Customer     27736959\n",
       "Night time customer       2687912\n",
       "Morning time customer      567793\n",
       "Name: timeperiod_flag, dtype: int64"
      ]
     },
     "execution_count": 72,
     "metadata": {},
     "output_type": "execute_result"
    }
   ],
   "source": [
    "df_high_activity_custm['timeperiod_flag'].value_counts(dropna = False)"
   ]
  },
  {
   "cell_type": "code",
   "execution_count": 73,
   "id": "53b80cc9",
   "metadata": {},
   "outputs": [],
   "source": [
    "#crosstab on incomecategory_flag and timeperiod_flag\n",
    "\n",
    "crosstab_income_time = pd.crosstab (df_high_activity_custm['incomecategory_flag'], df_high_activity_custm['timeperiod_flag'], dropna = False)"
   ]
  },
  {
   "cell_type": "code",
   "execution_count": 74,
   "id": "1fc38c63",
   "metadata": {},
   "outputs": [
    {
     "data": {
      "text/html": [
       "<div>\n",
       "<style scoped>\n",
       "    .dataframe tbody tr th:only-of-type {\n",
       "        vertical-align: middle;\n",
       "    }\n",
       "\n",
       "    .dataframe tbody tr th {\n",
       "        vertical-align: top;\n",
       "    }\n",
       "\n",
       "    .dataframe thead th {\n",
       "        text-align: right;\n",
       "    }\n",
       "</style>\n",
       "<table border=\"1\" class=\"dataframe\">\n",
       "  <thead>\n",
       "    <tr style=\"text-align: right;\">\n",
       "      <th>timeperiod_flag</th>\n",
       "      <th>Morning time customer</th>\n",
       "      <th>Night time customer</th>\n",
       "      <th>Regular day Customer</th>\n",
       "    </tr>\n",
       "    <tr>\n",
       "      <th>incomecategory_flag</th>\n",
       "      <th></th>\n",
       "      <th></th>\n",
       "      <th></th>\n",
       "    </tr>\n",
       "  </thead>\n",
       "  <tbody>\n",
       "    <tr>\n",
       "      <th>High</th>\n",
       "      <td>133846</td>\n",
       "      <td>651700</td>\n",
       "      <td>6622295</td>\n",
       "    </tr>\n",
       "    <tr>\n",
       "      <th>Low</th>\n",
       "      <td>154298</td>\n",
       "      <td>712474</td>\n",
       "      <td>7662049</td>\n",
       "    </tr>\n",
       "    <tr>\n",
       "      <th>Middle</th>\n",
       "      <td>279649</td>\n",
       "      <td>1323738</td>\n",
       "      <td>13452615</td>\n",
       "    </tr>\n",
       "  </tbody>\n",
       "</table>\n",
       "</div>"
      ],
      "text/plain": [
       "timeperiod_flag      Morning time customer  Night time customer  \\\n",
       "incomecategory_flag                                               \n",
       "High                                133846               651700   \n",
       "Low                                 154298               712474   \n",
       "Middle                              279649              1323738   \n",
       "\n",
       "timeperiod_flag      Regular day Customer  \n",
       "incomecategory_flag                        \n",
       "High                              6622295  \n",
       "Low                               7662049  \n",
       "Middle                           13452615  "
      ]
     },
     "execution_count": 74,
     "metadata": {},
     "output_type": "execute_result"
    }
   ],
   "source": [
    "crosstab_income_time"
   ]
  },
  {
   "cell_type": "code",
   "execution_count": 75,
   "id": "f8fd9036",
   "metadata": {},
   "outputs": [
    {
     "data": {
      "image/png": "[encoded data removed]",
      "text/plain": [
       "<Figure size 640x480 with 1 Axes>"
      ]
     },
     "metadata": {},
     "output_type": "display_data"
    }
   ],
   "source": [
    "bar_income_time = crosstab_income_time .plot(kind='bar')"
   ]
  },
  {
   "cell_type": "code",
   "execution_count": 76,
   "id": "13659621",
   "metadata": {},
   "outputs": [
    {
     "data": {
      "text/html": [
       "<div>\n",
       "<style scoped>\n",
       "    .dataframe tbody tr th:only-of-type {\n",
       "        vertical-align: middle;\n",
       "    }\n",
       "\n",
       "    .dataframe tbody tr th {\n",
       "        vertical-align: top;\n",
       "    }\n",
       "\n",
       "    .dataframe thead tr th {\n",
       "        text-align: left;\n",
       "    }\n",
       "\n",
       "    .dataframe thead tr:last-of-type th {\n",
       "        text-align: right;\n",
       "    }\n",
       "</style>\n",
       "<table border=\"1\" class=\"dataframe\">\n",
       "  <thead>\n",
       "    <tr>\n",
       "      <th></th>\n",
       "      <th colspan=\"3\" halign=\"left\">prices</th>\n",
       "    </tr>\n",
       "    <tr>\n",
       "      <th></th>\n",
       "      <th>mean</th>\n",
       "      <th>min</th>\n",
       "      <th>max</th>\n",
       "    </tr>\n",
       "    <tr>\n",
       "      <th>timeperiod_flag</th>\n",
       "      <th></th>\n",
       "      <th></th>\n",
       "      <th></th>\n",
       "    </tr>\n",
       "  </thead>\n",
       "  <tbody>\n",
       "    <tr>\n",
       "      <th>Morning time customer</th>\n",
       "      <td>11.661904</td>\n",
       "      <td>1.0</td>\n",
       "      <td>99999.0</td>\n",
       "    </tr>\n",
       "    <tr>\n",
       "      <th>Night time customer</th>\n",
       "      <td>10.925765</td>\n",
       "      <td>1.0</td>\n",
       "      <td>99999.0</td>\n",
       "    </tr>\n",
       "    <tr>\n",
       "      <th>Regular day Customer</th>\n",
       "      <td>12.037817</td>\n",
       "      <td>1.0</td>\n",
       "      <td>99999.0</td>\n",
       "    </tr>\n",
       "  </tbody>\n",
       "</table>\n",
       "</div>"
      ],
      "text/plain": [
       "                          prices              \n",
       "                            mean  min      max\n",
       "timeperiod_flag                               \n",
       "Morning time customer  11.661904  1.0  99999.0\n",
       "Night time customer    10.925765  1.0  99999.0\n",
       "Regular day Customer   12.037817  1.0  99999.0"
      ]
     },
     "execution_count": 76,
     "metadata": {},
     "output_type": "execute_result"
    }
   ],
   "source": [
    "# Creating expenditure aggregation\n",
    "\n",
    "df_high_activity_custm.groupby('timeperiod_flag').agg({'prices' : ['mean', 'min', 'max']})"
   ]
  },
  {
   "cell_type": "markdown",
   "id": "a7e259ee",
   "metadata": {},
   "source": [
    "#### According to the table Regualr day time, Low income customers are the active customers and they spend average of 12 (price units)"
   ]
  },
  {
   "cell_type": "code",
   "execution_count": 77,
   "id": "f3289476",
   "metadata": {},
   "outputs": [
    {
     "data": {
      "text/html": [
       "<div>\n",
       "<style scoped>\n",
       "    .dataframe tbody tr th:only-of-type {\n",
       "        vertical-align: middle;\n",
       "    }\n",
       "\n",
       "    .dataframe tbody tr th {\n",
       "        vertical-align: top;\n",
       "    }\n",
       "\n",
       "    .dataframe thead tr th {\n",
       "        text-align: left;\n",
       "    }\n",
       "\n",
       "    .dataframe thead tr:last-of-type th {\n",
       "        text-align: right;\n",
       "    }\n",
       "</style>\n",
       "<table border=\"1\" class=\"dataframe\">\n",
       "  <thead>\n",
       "    <tr>\n",
       "      <th></th>\n",
       "      <th colspan=\"3\" halign=\"left\">add_to_cart_order</th>\n",
       "    </tr>\n",
       "    <tr>\n",
       "      <th></th>\n",
       "      <th>mean</th>\n",
       "      <th>min</th>\n",
       "      <th>max</th>\n",
       "    </tr>\n",
       "    <tr>\n",
       "      <th>timeperiod_flag</th>\n",
       "      <th></th>\n",
       "      <th></th>\n",
       "      <th></th>\n",
       "    </tr>\n",
       "  </thead>\n",
       "  <tbody>\n",
       "    <tr>\n",
       "      <th>Morning time customer</th>\n",
       "      <td>8.590509</td>\n",
       "      <td>1</td>\n",
       "      <td>109</td>\n",
       "    </tr>\n",
       "    <tr>\n",
       "      <th>Night time customer</th>\n",
       "      <td>8.715847</td>\n",
       "      <td>1</td>\n",
       "      <td>137</td>\n",
       "    </tr>\n",
       "    <tr>\n",
       "      <th>Regular day Customer</th>\n",
       "      <td>8.322641</td>\n",
       "      <td>1</td>\n",
       "      <td>145</td>\n",
       "    </tr>\n",
       "  </tbody>\n",
       "</table>\n",
       "</div>"
      ],
      "text/plain": [
       "                      add_to_cart_order         \n",
       "                                   mean min  max\n",
       "timeperiod_flag                                 \n",
       "Morning time customer          8.590509   1  109\n",
       "Night time customer            8.715847   1  137\n",
       "Regular day Customer           8.322641   1  145"
      ]
     },
     "execution_count": 77,
     "metadata": {},
     "output_type": "execute_result"
    }
   ],
   "source": [
    "df_high_activity_custm.groupby('timeperiod_flag').agg({'add_to_cart_order' : ['mean', 'min', 'max']})"
   ]
  },
  {
   "cell_type": "code",
   "execution_count": null,
   "id": "ce660f2c",
   "metadata": {},
   "outputs": [],
   "source": []
  },
  {
   "cell_type": "code",
   "execution_count": null,
   "id": "7809ed77",
   "metadata": {},
   "outputs": [],
   "source": []
  },
  {
   "cell_type": "markdown",
   "id": "664e2e50",
   "metadata": {},
   "source": [
    "# Exporting "
   ]
  },
  {
   "cell_type": "code",
   "execution_count": 78,
   "id": "b9214689",
   "metadata": {},
   "outputs": [],
   "source": [
    "path=r'/Users/arunibandara/Documents/Achievement 4.10 part 1'\n",
    "\n",
    "barplot_spender.figure.savefig(os.path.join(path,'04_Analysis','Visualization ','barplot_spender.png'))"
   ]
  },
  {
   "cell_type": "code",
   "execution_count": 79,
   "id": "6aff6ae8",
   "metadata": {},
   "outputs": [],
   "source": [
    "barplot_spender_1.figure.savefig(os.path.join(path,'04_Analysis','Visualization ','barplot_spender_1.png'))"
   ]
  },
  {
   "cell_type": "code",
   "execution_count": 80,
   "id": "8ee47a40",
   "metadata": {},
   "outputs": [],
   "source": [
    "bar_chart_age_familystatus.figure.savefig(os.path.join(path,'04_Analysis','Visualization ','bar_chart_age_familystatus.png'))"
   ]
  },
  {
   "cell_type": "code",
   "execution_count": 81,
   "id": "37c42dec",
   "metadata": {},
   "outputs": [],
   "source": [
    "bar_chart_region_income.figure.savefig(os.path.join(path,'04_Analysis','Visualization ','bar_chart_region_ncome.png'))"
   ]
  },
  {
   "cell_type": "code",
   "execution_count": 82,
   "id": "3e61bd6d",
   "metadata": {},
   "outputs": [],
   "source": [
    "bar_pet_chart.figure.savefig(os.path.join(path,'04_Analysis','Visualization ','bar_pet_chart.png'))"
   ]
  },
  {
   "cell_type": "code",
   "execution_count": 83,
   "id": "9f47d1a2",
   "metadata": {},
   "outputs": [],
   "source": [
    "bar_income_time.figure.savefig(os.path.join(path,'04_Analysis','Visualization ','bar_income_time.png')) "
   ]
  },
  {
   "cell_type": "code",
   "execution_count": 84,
   "id": "557f1299",
   "metadata": {},
   "outputs": [],
   "source": [
    "bar_products.figure.savefig(os.path.join(path,'04_Analysis','Visualization ','bar_products.png')) "
   ]
  },
  {
   "cell_type": "code",
   "execution_count": 85,
   "id": "742bedb3",
   "metadata": {},
   "outputs": [
    {
     "data": {
      "text/plain": [
       "South        10801610\n",
       "West          8300445\n",
       "Midwest       7603810\n",
       "Northeast     5728347\n",
       "Name: region, dtype: int64"
      ]
     },
     "execution_count": 85,
     "metadata": {},
     "output_type": "execute_result"
    }
   ],
   "source": [
    "df_ords_prods_cust['region'].value_counts(dropna = False)"
   ]
  },
  {
   "cell_type": "code",
   "execution_count": 86,
   "id": "25bf6725",
   "metadata": {},
   "outputs": [],
   "source": [
    "df_3=df_ords_prods_cust['region'].value_counts(dropna = False)"
   ]
  },
  {
   "cell_type": "code",
   "execution_count": 88,
   "id": "47fe0caf",
   "metadata": {},
   "outputs": [
    {
     "data": {
      "image/png": "[encoded data removed]",
      "text/plain": [
       "<Figure size 1100x600 with 1 Axes>"
      ]
     },
     "metadata": {},
     "output_type": "display_data"
    }
   ],
   "source": [
    "plot_pie = df_3.plot.pie(subplots=True, figsize=(11, 6),autopct='%1.1f%%')"
   ]
  },
  {
   "cell_type": "code",
   "execution_count": null,
   "id": "8f4023d0",
   "metadata": {},
   "outputs": [],
   "source": []
  }
 ],
 "metadata": {
  "kernelspec": {
   "display_name": "Python 3 (ipykernel)",
   "language": "python",
   "name": "python3"
  },
  "language_info": {
   "codemirror_mode": {
    "name": "ipython",
    "version": 3
   },
   "file_extension": ".py",
   "mimetype": "text/x-python",
   "name": "python",
   "nbconvert_exporter": "python",
   "pygments_lexer": "ipython3",
   "version": "3.9.13"
  }
 },
 "nbformat": 4,
 "nbformat_minor": 5
}
